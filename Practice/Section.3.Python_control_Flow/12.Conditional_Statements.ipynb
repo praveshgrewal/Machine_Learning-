{
 "cells": [
  {
   "cell_type": "markdown",
   "metadata": {},
   "source": [
    "conditional statments"
   ]
  },
  {
   "cell_type": "code",
   "execution_count": 5,
   "metadata": {},
   "outputs": [
    {
     "name": "stdout",
     "output_type": "stream",
     "text": [
      "you are child\n"
     ]
    }
   ],
   "source": [
    "#if statement\n",
    "age = int(input(\"enter your age\"))\n",
    "if age > 18:\n",
    "    print(\"you are 18+ \")\n",
    "else:\n",
    "    print(\"you are child\")\n"
   ]
  },
  {
   "cell_type": "code",
   "execution_count": 6,
   "metadata": {},
   "outputs": [
    {
     "name": "stdout",
     "output_type": "stream",
     "text": [
      "you are child\n"
     ]
    }
   ],
   "source": [
    "#else statments\n",
    "# its execute when if statemts is false\n",
    "\n",
    "age = int(input(\"enter your age\"))\n",
    "\n",
    "if age > 18:\n",
    "    print(\"you are 18+ \")\n",
    "else:\n",
    "    print(\"you are child\")"
   ]
  },
  {
   "cell_type": "code",
   "execution_count": 7,
   "metadata": {},
   "outputs": [
    {
     "name": "stdout",
     "output_type": "stream",
     "text": [
      "you are 18\n"
     ]
    }
   ],
   "source": [
    "#elif staments\n",
    "#its allow to check multiple conditions\n",
    "\n",
    "age = int(input(\"enter your age\"))  \n",
    "\n",
    "if age > 18:\n",
    "    print(\"you are 18+ \")\n",
    "elif age == 18:\n",
    "    print(\"you are 18\")\n",
    "else:\n",
    "    print(\"you are child\")"
   ]
  },
  {
   "cell_type": "code",
   "execution_count": 1,
   "metadata": {},
   "outputs": [
    {
     "name": "stdout",
     "output_type": "stream",
     "text": [
      "the number is postive\n",
      "the number is even\n"
     ]
    }
   ],
   "source": [
    "#nested condition statments\n",
    "#we can use if elif else inside the block like in if we can use another if.\n",
    "\n",
    "num = int(input(\"enter the number\"))\n",
    "\n",
    "if num>=0:\n",
    "    print(\"the number is postive\")\n",
    "    if num%2==0:\n",
    "        print(\"the number is even\")\n",
    "    else:\n",
    "        print(\"the number is odd\")\n",
    "\n",
    "else:\n",
    "    print(\"the number is zero or  negative \")"
   ]
  },
  {
   "cell_type": "code",
   "execution_count": 3,
   "metadata": {},
   "outputs": [
    {
     "name": "stdout",
     "output_type": "stream",
     "text": [
      "2024 is a leap year\n"
     ]
    }
   ],
   "source": [
    "#examples\n",
    "#leap year using nested\n",
    "\n",
    "year = int(input(\"enter the year\"))\n",
    "\n",
    "if year%4==0:\n",
    "    if year%100==0:\n",
    "        if year%400==0:\n",
    "            print(year,\"is a leap year\")\n",
    "\n",
    "        else:\n",
    "            print(year,\"is not a leap year\")\n",
    "\n",
    "    else:\n",
    "        print(year, \"is a leap year\")\n",
    "\n",
    "else:\n",
    "    print(year,\"is not leap year\")\n",
    "\n",
    "\n",
    "\n"
   ]
  },
  {
   "cell_type": "code",
   "execution_count": null,
   "metadata": {},
   "outputs": [],
   "source": [
    "#calculator\n"
   ]
  }
 ],
 "metadata": {
  "kernelspec": {
   "display_name": "Python 3",
   "language": "python",
   "name": "python3"
  },
  "language_info": {
   "codemirror_mode": {
    "name": "ipython",
    "version": 3
   },
   "file_extension": ".py",
   "mimetype": "text/x-python",
   "name": "python",
   "nbconvert_exporter": "python",
   "pygments_lexer": "ipython3",
   "version": "3.12.0"
  }
 },
 "nbformat": 4,
 "nbformat_minor": 2
}
