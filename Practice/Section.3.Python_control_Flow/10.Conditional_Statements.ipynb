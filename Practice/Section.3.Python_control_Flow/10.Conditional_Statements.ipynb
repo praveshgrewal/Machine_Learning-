{
 "cells": [
  {
   "cell_type": "markdown",
   "metadata": {},
   "source": [
    "conditional statments"
   ]
  },
  {
   "cell_type": "code",
   "execution_count": 5,
   "metadata": {},
   "outputs": [
    {
     "name": "stdout",
     "output_type": "stream",
     "text": [
      "you are child\n"
     ]
    }
   ],
   "source": [
    "#if statement\n",
    "age = int(input(\"enter your age\"))\n",
    "if age > 18:\n",
    "    print(\"you are 18+ \")\n",
    "else:\n",
    "    print(\"you are child\")\n"
   ]
  },
  {
   "cell_type": "code",
   "execution_count": 6,
   "metadata": {},
   "outputs": [
    {
     "name": "stdout",
     "output_type": "stream",
     "text": [
      "you are child\n"
     ]
    }
   ],
   "source": [
    "#else statments\n",
    "# its execute when if statemts is false\n",
    "\n",
    "age = int(input(\"enter your age\"))\n",
    "\n",
    "if age > 18:\n",
    "    print(\"you are 18+ \")\n",
    "else:\n",
    "    print(\"you are child\")"
   ]
  },
  {
   "cell_type": "code",
   "execution_count": 7,
   "metadata": {},
   "outputs": [
    {
     "name": "stdout",
     "output_type": "stream",
     "text": [
      "you are 18\n"
     ]
    }
   ],
   "source": [
    "#elif staments\n",
    "#its allow to check multiple conditions\n",
    "\n",
    "age = int(input(\"enter your age\"))  \n",
    "\n",
    "if age > 18:\n",
    "    print(\"you are 18+ \")\n",
    "elif age == 18:\n",
    "    print(\"you are 18\")\n",
    "else:\n",
    "    print(\"you are child\")"
   ]
  },
  {
   "cell_type": "code",
   "execution_count": null,
   "metadata": {},
   "outputs": [],
   "source": []
  }
 ],
 "metadata": {
  "kernelspec": {
   "display_name": "Python 3",
   "language": "python",
   "name": "python3"
  },
  "language_info": {
   "codemirror_mode": {
    "name": "ipython",
    "version": 3
   },
   "file_extension": ".py",
   "mimetype": "text/x-python",
   "name": "python",
   "nbconvert_exporter": "python",
   "pygments_lexer": "ipython3",
   "version": "3.12.0"
  }
 },
 "nbformat": 4,
 "nbformat_minor": 2
}
