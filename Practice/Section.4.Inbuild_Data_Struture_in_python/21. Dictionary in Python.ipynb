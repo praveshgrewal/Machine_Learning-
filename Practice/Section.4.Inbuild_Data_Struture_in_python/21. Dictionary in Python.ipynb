{
 "cells": [
  {
   "cell_type": "markdown",
   "metadata": {},
   "source": [
    "Dictionary  are unorderd collections of items. They store data in keu-value pairs. Keys must be unique and immutable (string, number tuiples), while values can be of any type."
   ]
  },
  {
   "cell_type": "code",
   "execution_count": 4,
   "metadata": {},
   "outputs": [
    {
     "name": "stdout",
     "output_type": "stream",
     "text": [
      "<class 'dict'>\n"
     ]
    }
   ],
   "source": [
    "#empty dictionary \n",
    "empty_dict = {}\n",
    "print(type(empty_dict))"
   ]
  },
  {
   "cell_type": "code",
   "execution_count": 9,
   "metadata": {},
   "outputs": [
    {
     "name": "stdout",
     "output_type": "stream",
     "text": [
      "{'Name': 'jiger', 'Age': 22}\n"
     ]
    }
   ],
   "source": [
    "#create a dictionary\n",
    "dict1 = {'Name': 'jiger', 'Age': 22}\n",
    "type(dict1)\n",
    "print(dict1)"
   ]
  },
  {
   "cell_type": "code",
   "execution_count": 14,
   "metadata": {},
   "outputs": [
    {
     "name": "stdout",
     "output_type": "stream",
     "text": [
      "{'Name': 'jiger', 'Age': 22}\n"
     ]
    }
   ],
   "source": [
    "\n",
    "#key must be unique\n",
    "dict1 = {'Name': 'jiger', 'Age': 22, 'Name': 'jiger'}\n",
    "print(dict1)"
   ]
  },
  {
   "cell_type": "code",
   "execution_count": 15,
   "metadata": {},
   "outputs": [
    {
     "name": "stdout",
     "output_type": "stream",
     "text": [
      "jiger\n",
      "22\n"
     ]
    }
   ],
   "source": [
    "## accessing elements\n",
    "dict1 = {'Name': 'jiger', 'Age': 22}\n",
    "print(dict1['Name'])\n",
    "print(dict1['Age'])"
   ]
  },
  {
   "cell_type": "code",
   "execution_count": 19,
   "metadata": {},
   "outputs": [
    {
     "name": "stdout",
     "output_type": "stream",
     "text": [
      "jiger\n",
      "22\n",
      "None\n",
      "Not Found\n"
     ]
    }
   ],
   "source": [
    "#accessing using get() method\n",
    "\n",
    "dict1 = {'Name': 'jiger', 'Age': 22}\n",
    "print(dict1.get('Name'))\n",
    "print(dict1.get('Age'))\n",
    "print(dict1.get('Address'))\n",
    "print(dict1.get('Address', 'Not Found'))"
   ]
  },
  {
   "cell_type": "code",
   "execution_count": 21,
   "metadata": {},
   "outputs": [
    {
     "data": {
      "text/plain": [
       "{'Name': 'Jiger', 'Age': 23, 'adderess': 'Haryana'}"
      ]
     },
     "execution_count": 21,
     "metadata": {},
     "output_type": "execute_result"
    }
   ],
   "source": [
    "##modifying dictionary elements\n",
    "#dictionary are mutable in nature\n",
    "dict1 = {'Name': 'jiger', 'Age': 22}\n",
    "dict1['Name'] = 'Jiger'\n",
    "dict1['Age'] = 23\n",
    "dict1[\"adderess\"] = \"Haryana\"\n",
    "dict1"
   ]
  },
  {
   "cell_type": "code",
   "execution_count": 24,
   "metadata": {},
   "outputs": [
    {
     "data": {
      "text/plain": [
       "{'Name': 'jiger'}"
      ]
     },
     "execution_count": 24,
     "metadata": {},
     "output_type": "execute_result"
    }
   ],
   "source": [
    "#delete a key\n",
    "\n",
    "dict1 = {'Name': 'jiger', 'Age': 22}\n",
    "del dict1['Age']\n",
    "dict1"
   ]
  },
  {
   "cell_type": "code",
   "execution_count": 26,
   "metadata": {},
   "outputs": [
    {
     "data": {
      "text/plain": [
       "{'Name': 'jiger'}"
      ]
     },
     "execution_count": 26,
     "metadata": {},
     "output_type": "execute_result"
    }
   ],
   "source": [
    "dict1"
   ]
  },
  {
   "cell_type": "code",
   "execution_count": 33,
   "metadata": {},
   "outputs": [
    {
     "data": {
      "text/plain": [
       "dict_items([('Name', 'jiger'), ('Age', 22)])"
      ]
     },
     "execution_count": 33,
     "metadata": {},
     "output_type": "execute_result"
    }
   ],
   "source": [
    "#dictionary methods\n",
    "\n",
    "dict1 = {'Name': 'jiger', 'Age': 22}\n",
    "dict1.keys() #all keys\n",
    "dict1.values() #all values\n",
    "dict1.items()   #all keys and values\n",
    "\n"
   ]
  },
  {
   "cell_type": "code",
   "execution_count": 35,
   "metadata": {},
   "outputs": [
    {
     "name": "stdout",
     "output_type": "stream",
     "text": [
      "{'Name': 'Pravesh', 'Age': 22}\n",
      "{'Name': 'Pravesh', 'Age': 22}\n"
     ]
    }
   ],
   "source": [
    "# shallow copy\n",
    "# we should not change values in copyed dictionary because it will change the original dictionary\n",
    "dict1 = {'Name': 'jiger', 'Age': 22}\n",
    "dict2 = dict1\n",
    "dict2['Name'] = 'Pravesh'\n",
    "print(dict1)\n",
    "print(dict2)"
   ]
  },
  {
   "cell_type": "code",
   "execution_count": 37,
   "metadata": {},
   "outputs": [
    {
     "name": "stdout",
     "output_type": "stream",
     "text": [
      "{'Name': 'Pravesh', 'Age': 22}\n",
      "{'Name': 'jiger', 'Age': 22}\n"
     ]
    }
   ],
   "source": [
    "#we can use copy function for this \n",
    "dict2 = dict1.copy()\n",
    "dict2['Name'] = 'jiger'\n",
    "print(dict1)\n",
    "print(dict2)"
   ]
  },
  {
   "cell_type": "code",
   "execution_count": 38,
   "metadata": {},
   "outputs": [
    {
     "name": "stdout",
     "output_type": "stream",
     "text": [
      "Name jiger\n",
      "Age 22\n"
     ]
    }
   ],
   "source": [
    "##iteratin of dictionary\n",
    "#we can use loop to iterate through dictionary\n",
    "dict1 = {'Name': 'jiger', 'Age': 22}\n",
    "for i in dict1:\n",
    "    print(i, dict1[i])"
   ]
  },
  {
   "cell_type": "code",
   "execution_count": 39,
   "metadata": {},
   "outputs": [
    {
     "name": "stdout",
     "output_type": "stream",
     "text": [
      "Name\n",
      "Age\n"
     ]
    }
   ],
   "source": [
    "#iterating through keys\n",
    "for i in dict1.keys():\n",
    "    print(i)"
   ]
  },
  {
   "cell_type": "code",
   "execution_count": 40,
   "metadata": {},
   "outputs": [
    {
     "name": "stdout",
     "output_type": "stream",
     "text": [
      "jiger\n",
      "22\n"
     ]
    }
   ],
   "source": [
    "#iterating through values\n",
    "for i in dict1.values():\n",
    "    print(i)"
   ]
  },
  {
   "cell_type": "code",
   "execution_count": 42,
   "metadata": {},
   "outputs": [
    {
     "name": "stdout",
     "output_type": "stream",
     "text": [
      "Name : jiger\n",
      "Age : 22\n"
     ]
    }
   ],
   "source": [
    "#iterate over key value pa\n",
    "for key, value in dict1.items():\n",
    "    print(f\"{key} : {value}\")"
   ]
  },
  {
   "cell_type": "code",
   "execution_count": 45,
   "metadata": {},
   "outputs": [
    {
     "name": "stdout",
     "output_type": "stream",
     "text": [
      "{'Name': 'jiger', 'Age': 22, 'address': {'city': 'Loharu', 'state': 'Haryana'}}\n"
     ]
    }
   ],
   "source": [
    "#nested dictionary\n",
    "dict1 = {'Name': 'jiger', 'Age': 22, 'address': {'city': 'Loharu', 'state': 'Haryana'}}\n",
    "print(dict1)\n",
    "\n"
   ]
  },
  {
   "cell_type": "code",
   "execution_count": 46,
   "metadata": {},
   "outputs": [
    {
     "name": "stdout",
     "output_type": "stream",
     "text": [
      "{'city': 'Loharu', 'state': 'Haryana'}\n",
      "Loharu\n",
      "Haryana\n"
     ]
    }
   ],
   "source": [
    "#accessing nested dictionary\n",
    "print(dict1['address'])\n",
    "print(dict1['address']['city'])\n",
    "print(dict1['address']['state'])"
   ]
  },
  {
   "cell_type": "code",
   "execution_count": 47,
   "metadata": {},
   "outputs": [
    {
     "name": "stdout",
     "output_type": "stream",
     "text": [
      "city Loharu\n",
      "state Haryana\n"
     ]
    }
   ],
   "source": [
    "#iterating over nested dictionary\n",
    "dict1 = {'Name': 'jiger', 'Age': 22, 'address': {'city': 'Loharu', 'state': 'Haryana'}}\n",
    "for i in dict1['address']:\n",
    "    print(i, dict1['address'][i])"
   ]
  },
  {
   "cell_type": "code",
   "execution_count": 48,
   "metadata": {},
   "outputs": [
    {
     "name": "stdout",
     "output_type": "stream",
     "text": [
      "{'Name': 'jiger', 'address': {'city': 'Loharu', 'state': 'Haryana'}}\n"
     ]
    }
   ],
   "source": [
    "#dictionary comprehension\n",
    "dict1 = {'Name': 'jiger', 'Age': 22, 'address': {'city': 'Loharu', 'state': 'Haryana'}}\n",
    "dict2 = {key: value for key, value in dict1.items() if key != 'Age'}\n",
    "print(dict2)"
   ]
  },
  {
   "cell_type": "code",
   "execution_count": 50,
   "metadata": {},
   "outputs": [
    {
     "name": "stdout",
     "output_type": "stream",
     "text": [
      "{0: 0, 1: 1, 2: 4, 3: 9, 4: 16, 5: 25}\n"
     ]
    }
   ],
   "source": [
    "squares = {x: x*x for x in range(6)}\n",
    "print(squares)\n"
   ]
  },
  {
   "cell_type": "code",
   "execution_count": 52,
   "metadata": {},
   "outputs": [
    {
     "data": {
      "text/plain": [
       "{0: 0, 2: 4, 4: 8, 6: 12, 8: 16}"
      ]
     },
     "execution_count": 52,
     "metadata": {},
     "output_type": "execute_result"
    }
   ],
   "source": [
    "#conditional dictionary comprehension\n",
    "\n",
    "even = {x: x*2 for x in range(10) if x % 2 == 0}\n",
    "even"
   ]
  },
  {
   "cell_type": "code",
   "execution_count": 56,
   "metadata": {},
   "outputs": [
    {
     "data": {
      "text/plain": [
       "{1: 5, 2: 8, 3: 6, 4: 4, 5: 1, 6: 1, 7: 1, 8: 1, 9: 1, 10: 1}"
      ]
     },
     "execution_count": 56,
     "metadata": {},
     "output_type": "execute_result"
    }
   ],
   "source": [
    "##practical example\n",
    "#use a dictionary to count frequency of elements in list \n",
    "\n",
    "num= [ 1, 2, 3, 4, 2, 3, 4, 1, 2, 1, 2, 3, 2, 1, 2, 3, 4, 3, 2, 1, 2, 3, 4, 5, 6, 7, 8, 9, 10]\n",
    "\n",
    "\n",
    "freq = {x: num.count(x) for x in num}\n",
    "freq"
   ]
  },
  {
   "cell_type": "code",
   "execution_count": 59,
   "metadata": {},
   "outputs": [
    {
     "name": "stdout",
     "output_type": "stream",
     "text": [
      "{'Name': 'jiger', 'Age': 23}\n"
     ]
    }
   ],
   "source": [
    "#merge two dictionary into one\n",
    "dict1 = {'Name': 'jiger', 'Age': 22}\n",
    "dict2 = {'Name': 'jiger', 'Age': 23}\n",
    "dict3 = {**dict1, **dict2}\n",
    "print(dict3)"
   ]
  },
  {
   "cell_type": "code",
   "execution_count": null,
   "metadata": {},
   "outputs": [],
   "source": []
  }
 ],
 "metadata": {
  "kernelspec": {
   "display_name": "Python 3",
   "language": "python",
   "name": "python3"
  },
  "language_info": {
   "codemirror_mode": {
    "name": "ipython",
    "version": 3
   },
   "file_extension": ".py",
   "mimetype": "text/x-python",
   "name": "python",
   "nbconvert_exporter": "python",
   "pygments_lexer": "ipython3",
   "version": "3.12.0"
  }
 },
 "nbformat": 4,
 "nbformat_minor": 2
}
