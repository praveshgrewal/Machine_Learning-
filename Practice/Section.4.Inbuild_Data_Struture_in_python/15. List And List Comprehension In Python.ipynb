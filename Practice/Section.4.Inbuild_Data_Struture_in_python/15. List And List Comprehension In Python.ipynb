{
 "cells": [
  {
   "cell_type": "markdown",
   "metadata": {},
   "source": [
    "##lists are ordered mutable collections of items.\n",
    "they are contains items of different data types.\n",
    "we can change the items in list"
   ]
  },
  {
   "cell_type": "code",
   "execution_count": 6,
   "metadata": {},
   "outputs": [
    {
     "name": "stdout",
     "output_type": "stream",
     "text": [
      "<class 'list'>\n",
      "['jiger', 'ramfal', 1, 5, 8]\n"
     ]
    }
   ],
   "source": [
    "#list\n",
    "list_first= ['jiger', 'ramfal',1,5,8]\n",
    "print(type(list))\n",
    "print(list_first)"
   ]
  },
  {
   "cell_type": "code",
   "execution_count": 8,
   "metadata": {},
   "outputs": [
    {
     "name": "stdout",
     "output_type": "stream",
     "text": [
      "[1, 'jiger', 180.6, True]\n"
     ]
    }
   ],
   "source": [
    "#mixed list\n",
    "list_second=[1,\"jiger\",180.6,True]\n",
    "print(list_second)"
   ]
  },
  {
   "cell_type": "code",
   "execution_count": 18,
   "metadata": {},
   "outputs": [
    {
     "name": "stdout",
     "output_type": "stream",
     "text": [
      "jiger\n",
      "180.6\n",
      "jiger\n",
      "['ramfal', 1]\n",
      "['ramfal', 1, 5, 8]\n"
     ]
    }
   ],
   "source": [
    "#accessing list elements\n",
    "print(list_first[0])\n",
    "print(list_second[2])\n",
    "print(list_second[-3])\n",
    "print(list_first[1:3])\n",
    "print(list_first[1:])"
   ]
  },
  {
   "cell_type": "code",
   "execution_count": 23,
   "metadata": {},
   "outputs": [
    {
     "name": "stdout",
     "output_type": "stream",
     "text": [
      "['jigar']\n",
      "['jigar']\n",
      "['jigar', 'jigar']\n"
     ]
    },
    {
     "data": {
      "text/plain": [
       "[1, 'jigar', 'ramfal', True]"
      ]
     },
     "execution_count": 23,
     "metadata": {},
     "output_type": "execute_result"
    }
   ],
   "source": [
    "##modifying list elements\n",
    "list_first[0]=\"jigar\"\n",
    "print(list_first)\n",
    "list_second[1:3]=[\"jigar\",\"ramfal\"]\n",
    "print(list_first)\n",
    "list_first[1:3]=[\"jigar\"]\n",
    "print(list_first)\n",
    "list_first[1:3]=[]\n",
    "list_second\n",
    "\n"
   ]
  },
  {
   "cell_type": "code",
   "execution_count": 39,
   "metadata": {},
   "outputs": [
    {
     "data": {
      "text/plain": [
       "['jiger', 'raja']"
      ]
     },
     "execution_count": 39,
     "metadata": {},
     "output_type": "execute_result"
    }
   ],
   "source": [
    "list_first= [\"jiger\",\"raja\"]\n",
    "list_first\n"
   ]
  },
  {
   "cell_type": "code",
   "execution_count": 40,
   "metadata": {},
   "outputs": [
    {
     "name": "stdout",
     "output_type": "stream",
     "text": [
      "['jiger', 'raja', 'jigar']\n"
     ]
    }
   ],
   "source": [
    "#list methods\n",
    "list_first.append(\"jigar\")\n",
    "print(list_first)\n",
    "\n"
   ]
  },
  {
   "cell_type": "code",
   "execution_count": 42,
   "metadata": {},
   "outputs": [
    {
     "name": "stdout",
     "output_type": "stream",
     "text": [
      "['ramfal', 'jiger', 'ramfal', 'raja', 'jigar']\n"
     ]
    }
   ],
   "source": [
    "list_first.insert(0,\"ramfal\")\n",
    "print(list_first)"
   ]
  },
  {
   "cell_type": "code",
   "execution_count": 43,
   "metadata": {},
   "outputs": [
    {
     "name": "stdout",
     "output_type": "stream",
     "text": [
      "['ramfal', 'ramfal', 'raja', 'jigar']\n"
     ]
    }
   ],
   "source": [
    "list_first.remove(\"jiger\")#remove first occurance\n",
    "print(list_first)"
   ]
  },
  {
   "cell_type": "code",
   "execution_count": 44,
   "metadata": {},
   "outputs": [
    {
     "name": "stdout",
     "output_type": "stream",
     "text": [
      "['ramfal', 'ramfal', 'raja']\n"
     ]
    }
   ],
   "source": [
    "#remove and return last element\n",
    "list_first.pop()\n",
    "print(list_first)"
   ]
  },
  {
   "cell_type": "code",
   "execution_count": 47,
   "metadata": {},
   "outputs": [
    {
     "name": "stdout",
     "output_type": "stream",
     "text": [
      "2\n"
     ]
    }
   ],
   "source": [
    "index=list_first.index(\"raja\")\n",
    "print(index)"
   ]
  },
  {
   "cell_type": "code",
   "execution_count": 49,
   "metadata": {},
   "outputs": [
    {
     "name": "stdout",
     "output_type": "stream",
     "text": [
      "2\n"
     ]
    },
    {
     "data": {
      "text/plain": [
       "['ramfal', 'ramfal', 'jigar', 'jigar', 'raja']"
      ]
     },
     "execution_count": 49,
     "metadata": {},
     "output_type": "execute_result"
    }
   ],
   "source": [
    "list_first.insert(2,\"jigar\")\n",
    "print(list_first.count(\"jigar\"))\n",
    "\n",
    "list_first\n"
   ]
  },
  {
   "cell_type": "code",
   "execution_count": 52,
   "metadata": {},
   "outputs": [
    {
     "name": "stdout",
     "output_type": "stream",
     "text": [
      "['jigar', 'jigar', 'raja', 'ramfal', 'ramfal']\n",
      "['ramfal', 'ramfal', 'raja', 'jigar', 'jigar']\n"
     ]
    }
   ],
   "source": [
    "list_first.sort()#sort list in ascending order\n",
    "print(list_first)\n",
    "list_first.reverse()#sort list in descending order\n",
    "print(list_first)"
   ]
  },
  {
   "cell_type": "code",
   "execution_count": 54,
   "metadata": {},
   "outputs": [
    {
     "name": "stdout",
     "output_type": "stream",
     "text": [
      "[]\n"
     ]
    }
   ],
   "source": [
    "list_first.clear() #clear our full list\n",
    "print(list_first)"
   ]
  },
  {
   "cell_type": "code",
   "execution_count": 59,
   "metadata": {},
   "outputs": [
    {
     "name": "stdout",
     "output_type": "stream",
     "text": [
      "[3, 4, 5, 6, 7]\n",
      "[1, 2, 3, 4, 5]\n",
      "[6, 7, 8, 9, 10]\n",
      "[1, 3, 5, 7, 9]\n",
      "[10, 9, 8, 7, 6, 5, 4, 3, 2, 1]\n"
     ]
    }
   ],
   "source": [
    "#slicing list\n",
    "number = [1, 2, 3, 4, 5, 6, 7, 8, 9, 10]\n",
    "print(number[2:7])\n",
    "print(number[:5])\n",
    "print(number[5:])\n",
    "print(number[::2])\n",
    "print(number[::-1])"
   ]
  },
  {
   "cell_type": "code",
   "execution_count": 61,
   "metadata": {},
   "outputs": [
    {
     "name": "stdout",
     "output_type": "stream",
     "text": [
      "1\n",
      "2\n",
      "3\n",
      "4\n",
      "5\n",
      "6\n",
      "7\n",
      "8\n",
      "9\n",
      "10\n"
     ]
    }
   ],
   "source": [
    "##iterating list\n",
    "for i in number:\n",
    "    print(i)"
   ]
  },
  {
   "cell_type": "code",
   "execution_count": 62,
   "metadata": {},
   "outputs": [
    {
     "name": "stdout",
     "output_type": "stream",
     "text": [
      "(0, 1)\n",
      "(1, 2)\n",
      "(2, 3)\n",
      "(3, 4)\n",
      "(4, 5)\n",
      "(5, 6)\n",
      "(6, 7)\n",
      "(7, 8)\n",
      "(8, 9)\n",
      "(9, 10)\n"
     ]
    }
   ],
   "source": [
    "###iterating list with index\n",
    "for i in enumerate(number):\n",
    "    print(i)"
   ]
  },
  {
   "cell_type": "code",
   "execution_count": 73,
   "metadata": {},
   "outputs": [
    {
     "name": "stdout",
     "output_type": "stream",
     "text": [
      "[0, 1, 4, 9, 16, 25, 36, 49, 64, 81]\n"
     ]
    }
   ],
   "source": [
    "#list comprehension\n",
    "list=[]\n",
    "for x in range(10):\n",
    "    list.append(x**2)\n",
    "\n",
    "print(list)"
   ]
  },
  {
   "cell_type": "code",
   "execution_count": 75,
   "metadata": {},
   "outputs": [
    {
     "data": {
      "text/plain": [
       "[0, 2, 4, 6, 8, 10, 12, 14, 16, 18]"
      ]
     },
     "execution_count": 75,
     "metadata": {},
     "output_type": "execute_result"
    }
   ],
   "source": [
    "[x*2 for x in range(10)]"
   ]
  },
  {
   "cell_type": "markdown",
   "metadata": {},
   "source": [
    "##list comprehension \n",
    "\n",
    "#basic syntex [expression for item in list]\n",
    "#with conditional logic [expression for item in list if conditional]"
   ]
  },
  {
   "cell_type": "code",
   "execution_count": 83,
   "metadata": {},
   "outputs": [
    {
     "name": "stdout",
     "output_type": "stream",
     "text": [
      "[2, 4, 6, 8, 10, 12, 14, 16, 18]\n"
     ]
    }
   ],
   "source": [
    "#basic\n",
    "sq=[i*2 for i in range(1,10)]\n",
    "print(sq)\n"
   ]
  },
  {
   "cell_type": "code",
   "execution_count": 85,
   "metadata": {},
   "outputs": [
    {
     "name": "stdout",
     "output_type": "stream",
     "text": [
      "0\n",
      "2\n",
      "4\n",
      "6\n",
      "8\n"
     ]
    }
   ],
   "source": [
    "#with condition\n",
    "for i in range(10):\n",
    "    if i%2==0:\n",
    "        print(i)"
   ]
  },
  {
   "cell_type": "code",
   "execution_count": 90,
   "metadata": {},
   "outputs": [
    {
     "name": "stdout",
     "output_type": "stream",
     "text": [
      "[0, 2, 4, 6, 8]\n"
     ]
    }
   ],
   "source": [
    "even= [i for i in range(10) if i%2==0]\n",
    "print(even)"
   ]
  },
  {
   "cell_type": "code",
   "execution_count": 94,
   "metadata": {},
   "outputs": [
    {
     "name": "stdout",
     "output_type": "stream",
     "text": [
      "[{1, 'a'}, {1, 'b'}, {'c', 1}, {1, 'd'}, {'a', 2}, {2, 'b'}, {'c', 2}, {2, 'd'}, {'a', 3}, {3, 'b'}, {'c', 3}, {3, 'd'}, {'a', 4}, {'b', 4}, {'c', 4}, {4, 'd'}]\n"
     ]
    }
   ],
   "source": [
    "#nasted list comprehension\n",
    "list1= [1,2,3,4]\n",
    "list2= ['a','b','c','d']\n",
    "pair= [{x,y} for x in list1 for y in list2]\n",
    "print(pair)"
   ]
  },
  {
   "cell_type": "code",
   "execution_count": 95,
   "metadata": {},
   "outputs": [
    {
     "name": "stdout",
     "output_type": "stream",
     "text": [
      "[5, 5, 2, 4, 2, 5]\n"
     ]
    }
   ],
   "source": [
    "#list comprehension with function call\n",
    "words = ['hello', 'world', 'my', 'name', 'is', 'jiger']\n",
    "lengths = [len(word) for word in words]\n",
    "print(lengths)\n"
   ]
  },
  {
   "cell_type": "code",
   "execution_count": null,
   "metadata": {},
   "outputs": [],
   "source": []
  }
 ],
 "metadata": {
  "kernelspec": {
   "display_name": "Python 3",
   "language": "python",
   "name": "python3"
  },
  "language_info": {
   "codemirror_mode": {
    "name": "ipython",
    "version": 3
   },
   "file_extension": ".py",
   "mimetype": "text/x-python",
   "name": "python",
   "nbconvert_exporter": "python",
   "pygments_lexer": "ipython3",
   "version": "3.12.0"
  }
 },
 "nbformat": 4,
 "nbformat_minor": 2
}
