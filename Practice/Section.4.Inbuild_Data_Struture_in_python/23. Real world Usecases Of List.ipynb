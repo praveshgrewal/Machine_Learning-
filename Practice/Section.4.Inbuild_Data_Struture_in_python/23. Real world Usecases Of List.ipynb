{
 "cells": [
  {
   "cell_type": "markdown",
   "metadata": {},
   "source": [
    "Realworld usecase"
   ]
  },
  {
   "cell_type": "code",
   "execution_count": 1,
   "metadata": {},
   "outputs": [
    {
     "name": "stdout",
     "output_type": "stream",
     "text": [
      "dont forget to pay bills\n",
      "remainig\n",
      "-clean the house\n",
      "-pay bills\n",
      "-learn python\n",
      "-learn java\n"
     ]
    }
   ],
   "source": [
    "#manage to do list\n",
    "to_do_list =[\"buy mile\",\"clean the house\",\"pay bills\"]\n",
    "\n",
    "#adding to task\n",
    "to_do_list.append(\"learn python\")\n",
    "to_do_list.append(\"learn java\")\n",
    "\n",
    "#removing task\n",
    "to_do_list.remove(\"buy mile\")\n",
    "\n",
    "#Checking if a task is in the list\n",
    "if \"pay bills\" in to_do_list:\n",
    "    print(\"dont forget to pay bills\")\n",
    "\n",
    "\n",
    "print( \"remainig\")\n",
    "for task in to_do_list:\n",
    "    print(f\"-{task}\")"
   ]
  },
  {
   "cell_type": "code",
   "execution_count": 5,
   "metadata": {},
   "outputs": [
    {
     "name": "stdout",
     "output_type": "stream",
     "text": [
      "87.0\n",
      "100\n",
      "70\n"
     ]
    }
   ],
   "source": [
    "#organzing student grade\n",
    "#create a list to store anc calcuolate average grade for students\n",
    "\n",
    "grades= [80, 90, 100, 70]\n",
    "\n",
    "#adding a new grade\n",
    "grades.append(95)\n",
    "\n",
    "#calculate average grade\n",
    "avg= sum(grades) / len(grades)\n",
    "\n",
    "print(avg)\n",
    "\n",
    "#finding the highest grade\n",
    "highest= max(grades)\n",
    "print(highest)\n",
    "#finding the lowest grade\n",
    "lowest= min(grades)\n",
    "print(lowest)\n",
    "\n"
   ]
  },
  {
   "cell_type": "code",
   "execution_count": 7,
   "metadata": {},
   "outputs": [
    {
     "name": "stdout",
     "output_type": "stream",
     "text": [
      "hat is in the list\n",
      "4\n"
     ]
    }
   ],
   "source": [
    "#mananging an inventory\n",
    "inventory = [\"shoes\", \"hat\", \"jacket\", \"gloves\"]    \n",
    "\n",
    "#adding a new item\n",
    "inventory.append(\"belt\")\n",
    "\n",
    "#removing an item\n",
    "inventory.remove(\"gloves\")\n",
    "\n",
    "#checking if an item is in the list\n",
    "\n",
    "if \"hat\" in inventory:\n",
    "    print(\"hat is in the list\") \n",
    "\n",
    "#inverse the order of the list\n",
    "inventory.reverse()\n",
    "\n",
    "#checking how many items are in the list\n",
    "print(len(inventory))\n",
    "\n",
    "\n",
    "\n",
    "\n"
   ]
  },
  {
   "cell_type": "code",
   "execution_count": 8,
   "metadata": {},
   "outputs": [
    {
     "name": "stdout",
     "output_type": "stream",
     "text": [
      "satisfied\n"
     ]
    }
   ],
   "source": [
    "#collecting user feedback\n",
    "\n",
    "feedbck= [\"satisfied\", \"verysatisfied\", \"unsatisfied\", \"excellent\"]\n",
    "\n",
    "#adding a new feedback\n",
    "feedbck.append(\"good\")\n",
    "\n",
    "#removing a feedback\n",
    "feedbck.remove(\"unsatisfied\")\n",
    "\n",
    "#checking if a feedback is in the list\n",
    "\n",
    "if \"satisfied\" in feedbck:\n",
    "    print(\"satisfied\")\n",
    "\n"
   ]
  }
 ],
 "metadata": {
  "kernelspec": {
   "display_name": "Python 3",
   "language": "python",
   "name": "python3"
  },
  "language_info": {
   "codemirror_mode": {
    "name": "ipython",
    "version": 3
   },
   "file_extension": ".py",
   "mimetype": "text/x-python",
   "name": "python",
   "nbconvert_exporter": "python",
   "pygments_lexer": "ipython3",
   "version": "3.12.0"
  }
 },
 "nbformat": 4,
 "nbformat_minor": 2
}
