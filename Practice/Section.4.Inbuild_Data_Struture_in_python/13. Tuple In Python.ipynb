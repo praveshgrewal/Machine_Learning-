{
 "cells": [
  {
   "cell_type": "markdown",
   "metadata": {},
   "source": [
    "##tuples\n",
    "tuples are ordered collections of items that are immutable . They are similar to lists, but their immutability maeks them different"
   ]
  },
  {
   "cell_type": "code",
   "execution_count": 2,
   "metadata": {},
   "outputs": [
    {
     "name": "stdout",
     "output_type": "stream",
     "text": [
      "<class 'tuple'>\n",
      "()\n"
     ]
    }
   ],
   "source": [
    "#creating a tuple\n",
    "empy = ()\n",
    "print(type(empy))\n",
    "print(empy)"
   ]
  },
  {
   "cell_type": "code",
   "execution_count": 4,
   "metadata": {},
   "outputs": [
    {
     "name": "stdout",
     "output_type": "stream",
     "text": [
      "(1, 2, 3, 4, 5)\n",
      "<class 'tuple'>\n"
     ]
    }
   ],
   "source": [
    "first_tuple = (1, 2, 3, 4, 5)\n",
    "print(first_tuple)\n",
    "print(type(first_tuple))"
   ]
  },
  {
   "cell_type": "code",
   "execution_count": 5,
   "metadata": {},
   "outputs": [
    {
     "name": "stdout",
     "output_type": "stream",
     "text": [
      "(1, 'Hello', 3.4)\n"
     ]
    }
   ],
   "source": [
    "mixed_tuple = (1, \"Hello\", 3.4)\n",
    "print(mixed_tuple)"
   ]
  },
  {
   "cell_type": "code",
   "execution_count": 11,
   "metadata": {},
   "outputs": [
    {
     "name": "stdout",
     "output_type": "stream",
     "text": [
      "Hello\n",
      "Hello\n",
      "('Hello', 3.4)\n",
      "(3.4,)\n"
     ]
    }
   ],
   "source": [
    "##accessing tuple elements\n",
    "print(mixed_tuple[1])\n",
    "print(mixed_tuple[-2])\n",
    "print(mixed_tuple[1:3])\n",
    "print(mixed_tuple[-1:])"
   ]
  },
  {
   "cell_type": "code",
   "execution_count": 14,
   "metadata": {},
   "outputs": [
    {
     "name": "stdout",
     "output_type": "stream",
     "text": [
      "(1, 2, 3, 4, 5, 1, 'Hello', 3.4)\n"
     ]
    }
   ],
   "source": [
    "##tupel operations\n",
    "conca = first_tuple + mixed_tuple\n",
    "print(conca)\n"
   ]
  },
  {
   "cell_type": "code",
   "execution_count": 17,
   "metadata": {},
   "outputs": [
    {
     "data": {
      "text/plain": [
       "(1, 'Hello', 3.4, 1, 'Hello', 3.4, 1, 'Hello', 3.4)"
      ]
     },
     "execution_count": 17,
     "metadata": {},
     "output_type": "execute_result"
    }
   ],
   "source": [
    "mixed_tuple* 3"
   ]
  },
  {
   "cell_type": "code",
   "execution_count": 18,
   "metadata": {},
   "outputs": [
    {
     "data": {
      "text/plain": [
       "(1, 2, 3, 4, 5, 1, 2, 3, 4, 5, 1, 2, 3, 4, 5)"
      ]
     },
     "execution_count": 18,
     "metadata": {},
     "output_type": "execute_result"
    }
   ],
   "source": [
    "first_tuple* 3"
   ]
  },
  {
   "cell_type": "code",
   "execution_count": 19,
   "metadata": {},
   "outputs": [
    {
     "ename": "TypeError",
     "evalue": "'tuple' object does not support item assignment",
     "output_type": "error",
     "traceback": [
      "\u001b[1;31m---------------------------------------------------------------------------\u001b[0m",
      "\u001b[1;31mTypeError\u001b[0m                                 Traceback (most recent call last)",
      "Cell \u001b[1;32mIn[19], line 4\u001b[0m\n\u001b[0;32m      1\u001b[0m \u001b[38;5;66;03m##immuable nature of tuple\u001b[39;00m\n\u001b[0;32m      2\u001b[0m \u001b[38;5;66;03m#elemnts can't change\u001b[39;00m\n\u001b[1;32m----> 4\u001b[0m \u001b[43mfirst_tuple\u001b[49m\u001b[43m[\u001b[49m\u001b[38;5;241;43m0\u001b[39;49m\u001b[43m]\u001b[49m \u001b[38;5;241m=\u001b[39m \u001b[38;5;241m10\u001b[39m\n",
      "\u001b[1;31mTypeError\u001b[0m: 'tuple' object does not support item assignment"
     ]
    }
   ],
   "source": [
    "##immuable nature of tuple\n",
    "#elemnts can't change\n",
    "#ones we assign value to tuple it can't  changable\n",
    "\n",
    "first_tuple[0] = 10\n",
    "\n"
   ]
  },
  {
   "cell_type": "code",
   "execution_count": 21,
   "metadata": {},
   "outputs": [
    {
     "data": {
      "text/plain": [
       "1"
      ]
     },
     "execution_count": 21,
     "metadata": {},
     "output_type": "execute_result"
    }
   ],
   "source": [
    "##tupes methods\n",
    "first_tuple.count(2)#count"
   ]
  },
  {
   "cell_type": "code",
   "execution_count": 22,
   "metadata": {},
   "outputs": [
    {
     "name": "stdout",
     "output_type": "stream",
     "text": [
      "4\n"
     ]
    }
   ],
   "source": [
    "print(first_tuple.index(5))#index"
   ]
  },
  {
   "cell_type": "code",
   "execution_count": 23,
   "metadata": {},
   "outputs": [
    {
     "name": "stdout",
     "output_type": "stream",
     "text": [
      "(1, 'hello', 3.4)\n"
     ]
    }
   ],
   "source": [
    "#packing and unpacking tuple\n",
    "# when i define tuple with multiple values and seprate with comaas then it is called packing and its considered as a tuple\n",
    "packed_t = 1,\"hello\",3.4\n",
    "print(packed_t)"
   ]
  },
  {
   "cell_type": "code",
   "execution_count": 24,
   "metadata": {},
   "outputs": [
    {
     "name": "stdout",
     "output_type": "stream",
     "text": [
      "1\n",
      "hello\n",
      "3.4\n"
     ]
    }
   ],
   "source": [
    "#unpack a tuple\n",
    "a,b,c = packed_t\n",
    "print(a)\n",
    "print(b)\n",
    "print(c)    "
   ]
  },
  {
   "cell_type": "code",
   "execution_count": 30,
   "metadata": {},
   "outputs": [
    {
     "name": "stdout",
     "output_type": "stream",
     "text": [
      "1\n",
      "['hello', 3.4]\n",
      "3.4\n"
     ]
    }
   ],
   "source": [
    "#unpacking with *(till the last element its will show us)\n",
    "a,*b = packed_t\n",
    "print(a,)\n",
    "print(b)\n",
    "print(c)"
   ]
  },
  {
   "cell_type": "code",
   "execution_count": 36,
   "metadata": {},
   "outputs": [
    {
     "name": "stdout",
     "output_type": "stream",
     "text": [
      "((1, 2, 3), (4, 5, 6), (7, 8, 9))\n",
      "3\n"
     ]
    }
   ],
   "source": [
    "##nested tuple\n",
    "nested_tuple = ((1, 2, 3), (4, 5, 6), (7, 8, 9))\n",
    "print(nested_tuple)\n",
    "print(nested_tuple[0][2])"
   ]
  },
  {
   "cell_type": "code",
   "execution_count": 37,
   "metadata": {},
   "outputs": [
    {
     "name": "stdout",
     "output_type": "stream",
     "text": [
      "1\n",
      "2\n",
      "3\n",
      "**********\n",
      "4\n",
      "5\n",
      "6\n",
      "**********\n",
      "7\n",
      "8\n",
      "9\n",
      "**********\n"
     ]
    }
   ],
   "source": [
    "##iterating over nested tupe\n",
    "for i in nested_tuple:\n",
    "    for j in i:\n",
    "        print(j)\n",
    "    print(\"*\"*10)"
   ]
  },
  {
   "cell_type": "code",
   "execution_count": null,
   "metadata": {},
   "outputs": [],
   "source": []
  }
 ],
 "metadata": {
  "kernelspec": {
   "display_name": "Python 3",
   "language": "python",
   "name": "python3"
  },
  "language_info": {
   "codemirror_mode": {
    "name": "ipython",
    "version": 3
   },
   "file_extension": ".py",
   "mimetype": "text/x-python",
   "name": "python",
   "nbconvert_exporter": "python",
   "pygments_lexer": "ipython3",
   "version": "3.12.0"
  }
 },
 "nbformat": 4,
 "nbformat_minor": 2
}
