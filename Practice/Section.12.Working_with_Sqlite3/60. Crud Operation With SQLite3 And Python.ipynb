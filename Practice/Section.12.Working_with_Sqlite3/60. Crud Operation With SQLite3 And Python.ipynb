{
 "cells": [
  {
   "cell_type": "markdown",
   "metadata": {},
   "source": [
    "## SQL And SQLite\n",
    "SQL (Structured Query Language) is a standard language for managing and manipulating relational databases.\n",
    "SQLite is a self-contained, serverless, and zero-configuration database engine that is widely used for embedded\n",
    "database systems. "
   ]
  },
  {
   "cell_type": "code",
   "execution_count": 2,
   "metadata": {},
   "outputs": [],
   "source": [
    "import sqlite3 as sq"
   ]
  },
  {
   "cell_type": "code",
   "execution_count": 4,
   "metadata": {},
   "outputs": [
    {
     "data": {
      "text/plain": [
       "<sqlite3.Connection at 0x18a0c291c60>"
      ]
     },
     "execution_count": 4,
     "metadata": {},
     "output_type": "execute_result"
    }
   ],
   "source": [
    "#connect to Sqlite3\n",
    "con = sq.connect('test.db')\n",
    "con"
   ]
  },
  {
   "cell_type": "code",
   "execution_count": 5,
   "metadata": {},
   "outputs": [
    {
     "data": {
      "text/plain": [
       "<sqlite3.Cursor at 0x18a0c49e8c0>"
      ]
     },
     "execution_count": 5,
     "metadata": {},
     "output_type": "execute_result"
    }
   ],
   "source": [
    "#create a cursor\n",
    "cur = con.cursor()\n",
    "cur"
   ]
  },
  {
   "cell_type": "code",
   "execution_count": 12,
   "metadata": {},
   "outputs": [
    {
     "data": {
      "text/plain": [
       "<sqlite3.Cursor at 0x18a0c49e8c0>"
      ]
     },
     "execution_count": 12,
     "metadata": {},
     "output_type": "execute_result"
    }
   ],
   "source": [
    "#create a table\n",
    "cur.execute('''\n",
    "\n",
    "CREATE TABLE IF NOT EXISTS store(\n",
    "            id INTEGER PRIMARY KEY ,\n",
    "            item TEXT NOT NULL,\n",
    "            quantity INTEGER,\n",
    "            price REAL)\n",
    "\n",
    "''')\n"
   ]
  },
  {
   "cell_type": "code",
   "execution_count": 13,
   "metadata": {},
   "outputs": [],
   "source": [
    "##commit our command\n",
    "con.commit()\n"
   ]
  },
  {
   "cell_type": "code",
   "execution_count": 14,
   "metadata": {},
   "outputs": [],
   "source": [
    "#insert data into table\n",
    "cur.execute('INSERT INTO store VALUES(?,?,?,?)', (1,'Water Glass',10,5.5))\n",
    "con.commit()"
   ]
  },
  {
   "cell_type": "code",
   "execution_count": 19,
   "metadata": {},
   "outputs": [],
   "source": [
    "#insert many data\n",
    "cur.execute('INSERT INTO store VALUES(?,?,?,?)', (2,'Coffee',10,5.5))\n",
    "con.commit()\n",
    "\n"
   ]
  },
  {
   "cell_type": "code",
   "execution_count": null,
   "metadata": {},
   "outputs": [],
   "source": []
  },
  {
   "cell_type": "code",
   "execution_count": 23,
   "metadata": {},
   "outputs": [
    {
     "name": "stdout",
     "output_type": "stream",
     "text": [
      "(1, 'Water Glass', 11, 5.5)\n",
      "(2, 'Coffee', 10, 5.5)\n"
     ]
    }
   ],
   "source": [
    "#query the data\n",
    "cur.execute('SELECT * FROM store')\n",
    "row=cur.fetchall()\n",
    "#print the queried data\n",
    "for row in row:\n",
    "    print(row)"
   ]
  },
  {
   "cell_type": "code",
   "execution_count": 31,
   "metadata": {},
   "outputs": [
    {
     "data": {
      "text/plain": [
       "<sqlite3.Cursor at 0x18a0c49e8c0>"
      ]
     },
     "execution_count": 31,
     "metadata": {},
     "output_type": "execute_result"
    }
   ],
   "source": [
    "#update the data\n",
    "cur.execute('''\n",
    "UPDATE store SET quantity = 15 WHERE item = 'Water Glass'\n",
    "''')"
   ]
  },
  {
   "cell_type": "code",
   "execution_count": 32,
   "metadata": {},
   "outputs": [],
   "source": [
    "con.commit()\n"
   ]
  },
  {
   "cell_type": "code",
   "execution_count": 36,
   "metadata": {},
   "outputs": [
    {
     "name": "stdout",
     "output_type": "stream",
     "text": [
      "(1, 'Water Glass', 15, 5.5)\n"
     ]
    }
   ],
   "source": [
    "cur.execute('SELECT * FROM store')\n",
    "row=cur.fetchall()\n",
    "for row in row:\n",
    "    print(row)"
   ]
  },
  {
   "cell_type": "code",
   "execution_count": 35,
   "metadata": {},
   "outputs": [],
   "source": [
    "#delete the data from table\n",
    "cur.execute('''\n",
    "DELETE FROM store WHERE item = 'Coffee'\n",
    "''')\n",
    "con.commit()"
   ]
  },
  {
   "cell_type": "code",
   "execution_count": 37,
   "metadata": {},
   "outputs": [
    {
     "name": "stdout",
     "output_type": "stream",
     "text": [
      "(1, 'Water Glass', 15, 5.5)\n"
     ]
    }
   ],
   "source": [
    "cur.execute('SELECT * FROM store')\n",
    "row=cur.fetchall()\n",
    "for row in row:\n",
    "    print(row)"
   ]
  },
  {
   "cell_type": "code",
   "execution_count": 38,
   "metadata": {},
   "outputs": [],
   "source": [
    "#working with sales data\n",
    "connection= sq.connect('sales.db')\n",
    "cur= connection.cursor()\n",
    "cur.execute('''\n",
    "CREATE TABLE IF NOT EXISTS sales(\n",
    "            item TEXT NOT NULL,\n",
    "            quantity INTEGER,\n",
    "            price REAL,\n",
    "            date TEXT NOT NULL)\n",
    "''')\n",
    "connection.commit()"
   ]
  },
  {
   "cell_type": "code",
   "execution_count": 40,
   "metadata": {},
   "outputs": [],
   "source": [
    "#insert multiple data   \n",
    "\n",
    "sales_data=[\n",
    "('Apple',4,5.5,'2020-01-02'),\n",
    "\n",
    "('Orange',10,5.5,'2020-01-02'),\n",
    "('Mango',2,5.5,'2020-01-02'),\n",
    "('Banana',5,5.5,'2020-01-02')\n",
    "]\n",
    "\n",
    "\n",
    "\n"
   ]
  },
  {
   "cell_type": "code",
   "execution_count": 41,
   "metadata": {},
   "outputs": [],
   "source": [
    "connection.executemany('INSERT INTO sales VALUES(?,?,?,?)',sales_data)\n",
    "connection.commit()"
   ]
  },
  {
   "cell_type": "code",
   "execution_count": 42,
   "metadata": {},
   "outputs": [
    {
     "name": "stdout",
     "output_type": "stream",
     "text": [
      "('Apple', 4, 5.5, '2020-01-02')\n",
      "('Orange', 10, 5.5, '2020-01-02')\n",
      "('Mango', 2, 5.5, '2020-01-02')\n",
      "('Banana', 5, 5.5, '2020-01-02')\n"
     ]
    }
   ],
   "source": [
    "cur.execute('SELECT * FROM sales')\n",
    "row=cur.fetchall()\n",
    "for row in row:\n",
    "    print(row)"
   ]
  },
  {
   "cell_type": "code",
   "execution_count": 43,
   "metadata": {},
   "outputs": [],
   "source": [
    "#close the connection\n",
    "connection.close()"
   ]
  },
  {
   "cell_type": "code",
   "execution_count": null,
   "metadata": {},
   "outputs": [],
   "source": []
  }
 ],
 "metadata": {
  "kernelspec": {
   "display_name": "Python 3",
   "language": "python",
   "name": "python3"
  },
  "language_info": {
   "codemirror_mode": {
    "name": "ipython",
    "version": 3
   },
   "file_extension": ".py",
   "mimetype": "text/x-python",
   "name": "python",
   "nbconvert_exporter": "python",
   "pygments_lexer": "ipython3",
   "version": "3.12.0"
  }
 },
 "nbformat": 4,
 "nbformat_minor": 2
}
