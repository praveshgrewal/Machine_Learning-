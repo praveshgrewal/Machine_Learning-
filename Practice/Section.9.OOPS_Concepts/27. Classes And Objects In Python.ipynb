{
 "cells": [
  {
   "cell_type": "markdown",
   "metadata": {},
   "source": [
    "classes and objects"
   ]
  },
  {
   "cell_type": "markdown",
   "metadata": {},
   "source": [
    "object oriented programming is a programming paradigmm that uses objects to design applications and computer programs . oop allows for modeling real-world scenarios using classes and objects. this lesson covers the basic of creating classes and objects inclding isntance variables and methods"
   ]
  },
  {
   "cell_type": "code",
   "execution_count": 3,
   "metadata": {},
   "outputs": [
    {
     "name": "stdout",
     "output_type": "stream",
     "text": [
      "<class '__main__.Car'>\n",
      "<class '__main__.Car'>\n",
      "<__main__.Car object at 0x000001557F3994C0>\n",
      "<__main__.Car object at 0x000001557F3839E0>\n"
     ]
    }
   ],
   "source": [
    "#a class is a blue print for an object\n",
    "#an object is an instance of a class\n",
    "#an object is an entity that has properties and behaviors\n",
    "\n",
    "class Car:\n",
    "    pass\n",
    "thar = Car()\n",
    "range_rover = Car()\n",
    "\n",
    "print(type(thar))\n",
    "\n",
    "print(type(range_rover))\n",
    "print(thar)\n",
    "print(range_rover)"
   ]
  },
  {
   "cell_type": "code",
   "execution_count": 5,
   "metadata": {},
   "outputs": [
    {
     "data": {
      "text/plain": [
       "['__class__',\n",
       " '__delattr__',\n",
       " '__dict__',\n",
       " '__dir__',\n",
       " '__doc__',\n",
       " '__eq__',\n",
       " '__format__',\n",
       " '__ge__',\n",
       " '__getattribute__',\n",
       " '__getstate__',\n",
       " '__gt__',\n",
       " '__hash__',\n",
       " '__init__',\n",
       " '__init_subclass__',\n",
       " '__le__',\n",
       " '__lt__',\n",
       " '__module__',\n",
       " '__ne__',\n",
       " '__new__',\n",
       " '__reduce__',\n",
       " '__reduce_ex__',\n",
       " '__repr__',\n",
       " '__setattr__',\n",
       " '__sizeof__',\n",
       " '__str__',\n",
       " '__subclasshook__',\n",
       " '__weakref__']"
      ]
     },
     "execution_count": 5,
     "metadata": {},
     "output_type": "execute_result"
    }
   ],
   "source": [
    "dir(Car)"
   ]
  },
  {
   "cell_type": "code",
   "execution_count": 8,
   "metadata": {},
   "outputs": [
    {
     "name": "stdout",
     "output_type": "stream",
     "text": [
      "Tommy\n",
      "5\n",
      "<__main__.Dog object at 0x000001557F399580>\n"
     ]
    }
   ],
   "source": [
    "#instance variables in methods\n",
    "class Dog:\n",
    "    #constructor(__init__)\n",
    "    def __init__(self, name, age):\n",
    "        self.name=name\n",
    "        self.age=age\n",
    "\n",
    "#create an object\n",
    "dog1= Dog(\"Tommy\", 5)\n",
    "print(dog1.name)\n",
    "print(dog1.age)\n",
    "print(dog1)\n",
    "\n",
    "\n"
   ]
  },
  {
   "cell_type": "code",
   "execution_count": 9,
   "metadata": {},
   "outputs": [
    {
     "name": "stdout",
     "output_type": "stream",
     "text": [
      "Jerry\n",
      "6\n",
      "<__main__.Dog object at 0x000001557F39AE40>\n"
     ]
    }
   ],
   "source": [
    "dog2= Dog(\"Jerry\", 6)\n",
    "print(dog2.name)\n",
    "print(dog2.age)\n",
    "print(dog2)"
   ]
  },
  {
   "cell_type": "code",
   "execution_count": 23,
   "metadata": {},
   "outputs": [
    {
     "name": "stdout",
     "output_type": "stream",
     "text": [
      "Tommy says woof\n",
      "Jerry says woof\n"
     ]
    }
   ],
   "source": [
    "#instance methods  \n",
    "class Dog:\n",
    "    def __init__(self, name, age):\n",
    "        self.name=name\n",
    "        self.age=age\n",
    "\n",
    "\n",
    "    def bark(self):\n",
    "        print(f\"{self.name} says woof\")\n",
    "\n",
    "    dog1= Dog(\"Tommy\", 5)\n",
    "   \n",
    "  \n",
    "    dog1.bark()\n",
    "    dog2= Dog(\"Jerry\", 6)\n",
    "    dog2.bark()\n"
   ]
  },
  {
   "cell_type": "code",
   "execution_count": 5,
   "metadata": {},
   "outputs": [
    {
     "name": "stdout",
     "output_type": "stream",
     "text": [
      "1000\n",
      "MR/MRS Pravesh deposited 500. New balance is 1500\n",
      "Pravesh withdrew 200. New balance is 1300\n",
      "1300\n"
     ]
    }
   ],
   "source": [
    "#modeling a bank acount \n",
    "#define a class for bank account \n",
    "class BankAccount:\n",
    "    def __init__(self, name, balance=0):\n",
    "        self.name=name\n",
    "        self.balance=balance\n",
    "\n",
    "    def deposit(self, amount):\n",
    "        self.balance += amount\n",
    "        print(f\"MR/MRS {self.name} deposited {amount}. New balance is {self.balance}\")\n",
    "\n",
    "    def withdraw(self, amount):\n",
    "        if amount > self.balance:\n",
    "            print(\"Insufficient funds\")\n",
    "        else:\n",
    "            self.balance -= amount\n",
    "            print(f\"{self.name} withdrew {amount}. New balance is {self.balance}\")\n",
    "\n",
    "    def get_balance(self):\n",
    "        return self.balance\n",
    "    \n",
    "\n",
    "#creating an object\n",
    "account = BankAccount(\"Pravesh\", 1000)\n",
    "print(account.get_balance())\n",
    "account.deposit(500)\n",
    "account.withdraw(200)\n",
    "print(account.get_balance())\n",
    "    \n",
    "   "
   ]
  }
 ],
 "metadata": {
  "kernelspec": {
   "display_name": "Python 3",
   "language": "python",
   "name": "python3"
  },
  "language_info": {
   "codemirror_mode": {
    "name": "ipython",
    "version": 3
   },
   "file_extension": ".py",
   "mimetype": "text/x-python",
   "name": "python",
   "nbconvert_exporter": "python",
   "pygments_lexer": "ipython3",
   "version": "3.12.0"
  }
 },
 "nbformat": 4,
 "nbformat_minor": 2
}
