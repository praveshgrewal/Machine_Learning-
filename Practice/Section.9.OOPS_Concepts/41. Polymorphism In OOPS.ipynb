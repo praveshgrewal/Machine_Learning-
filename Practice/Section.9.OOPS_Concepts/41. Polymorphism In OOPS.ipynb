{
 "cells": [
  {
   "cell_type": "markdown",
   "metadata": {},
   "source": [
    "## Polymorphism"
   ]
  },
  {
   "cell_type": "markdown",
   "metadata": {},
   "source": [
    "polymorphism is a core concept in oops that allows objects of different classes to be treated as objects of a common superclass. it provides a way to perform a single action in differnet froms . Polymorphism is a typicallyy achieved through method overriding and interfaces."
   ]
  },
  {
   "cell_type": "markdown",
   "metadata": {},
   "source": [
    "## method overiding\n",
    "method overloading allows a child class to provide a specificm implementation of a method  that is already defined in the parent class\n"
   ]
  },
  {
   "cell_type": "code",
   "execution_count": 5,
   "metadata": {},
   "outputs": [
    {
     "name": "stdout",
     "output_type": "stream",
     "text": [
      "woof!\n",
      "meow!\n",
      "woof!\n",
      "meow!\n"
     ]
    }
   ],
   "source": [
    "#base class \n",
    "class Animal:\n",
    "    def speak(self):\n",
    "        return \" animal sound\"\n",
    "    \n",
    "\n",
    "#derived class\n",
    "class Dog(Animal):\n",
    "    def speak(self):\n",
    "        return \"woof!\"\n",
    "    \n",
    "#derived class\n",
    "class Cat(Animal):\n",
    "    def speak(self):\n",
    "        return \"meow!\"\n",
    "    \n",
    "#fucntion that demonstrates polymorphism\n",
    "def animal_speak(animal):\n",
    "    print(animal.speak())\n",
    "    \n",
    "dog=Dog()\n",
    "print(dog.speak())\n",
    "\n",
    "cat=Cat()\n",
    "print(cat.speak())\n",
    "\n",
    "animal_speak(dog)\n",
    "animal_speak(cat)\n"
   ]
  },
  {
   "cell_type": "code",
   "execution_count": 11,
   "metadata": {},
   "outputs": [
    {
     "name": "stdout",
     "output_type": "stream",
     "text": [
      "80\n",
      "78.5\n"
     ]
    }
   ],
   "source": [
    "##POLYMORPHISM WITH FUNCTION AND METHOD\n",
    "\n",
    "# Base class\n",
    "class Shape:\n",
    "    def area(self):\n",
    "        return \"area of the figure\"\n",
    "    \n",
    "# Derived class 1\n",
    "class Rectangle(Shape):\n",
    "    def __init__(self, width, height):\n",
    "        self.width = width\n",
    "        self.height = height\n",
    "\n",
    "    def area(self):\n",
    "        return self.width * self.height\n",
    "    \n",
    "# Derived class 2\n",
    "class Circle(Shape):\n",
    "    def __init__(self, radius):\n",
    "        self.radius = radius\n",
    "\n",
    "    def area(self):\n",
    "        return 3.14 * self.radius * self.radius\n",
    "    \n",
    "# Function that demonstrates polymorphism\n",
    "def print_area(shape):\n",
    "    print(shape.area())\n",
    "    \n",
    "rect = Rectangle(4, 20)\n",
    "print_area(rect)  # Expected output: 200\n",
    "\n",
    "circle = Circle(5)\n",
    "print_area(circle)  # Expected output: 78.5\n",
    "\n",
    "\n",
    "\n",
    "\n",
    "\n",
    "\n"
   ]
  },
  {
   "cell_type": "markdown",
   "metadata": {},
   "source": [
    "## polymorphism with abstract classes"
   ]
  },
  {
   "cell_type": "markdown",
   "metadata": {},
   "source": [
    "abstract base classes are used to define common methods for a group of related objects. they can enforce that derived classes implemnet particular methods promoting consistency across different implementions."
   ]
  },
  {
   "cell_type": "code",
   "execution_count": 12,
   "metadata": {},
   "outputs": [
    {
     "name": "stdout",
     "output_type": "stream",
     "text": [
      "Car engine started\n",
      "Bike engine started\n"
     ]
    }
   ],
   "source": [
    "from abc import ABC, abstractmethod\n",
    "#define an abstract class\n",
    "class Vehicle(ABC):\n",
    "    @abstractmethod\n",
    "    def start_engine(self):\n",
    "        pass\n",
    "\n",
    "#derived class 1\n",
    "class Car(Vehicle):\n",
    "    def start_engine(self):\n",
    "        print(\"Car engine started\")\n",
    "\n",
    "#derived class 2\n",
    "class Bike(Vehicle):\n",
    "    def start_engine(self):\n",
    "        print(\"Bike engine started\")\n",
    "\n",
    "#create objects\n",
    "car = Car()\n",
    "car.start_engine() \n",
    "\n",
    "bike = Bike()\n",
    "bike.start_engine()  \n"
   ]
  },
  {
   "cell_type": "code",
   "execution_count": null,
   "metadata": {},
   "outputs": [],
   "source": []
  }
 ],
 "metadata": {
  "kernelspec": {
   "display_name": "Python 3",
   "language": "python",
   "name": "python3"
  },
  "language_info": {
   "codemirror_mode": {
    "name": "ipython",
    "version": 3
   },
   "file_extension": ".py",
   "mimetype": "text/x-python",
   "name": "python",
   "nbconvert_exporter": "python",
   "pygments_lexer": "ipython3",
   "version": "3.12.0"
  }
 },
 "nbformat": 4,
 "nbformat_minor": 2
}
