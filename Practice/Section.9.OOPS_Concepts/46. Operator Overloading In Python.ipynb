{
 "cells": [
  {
   "cell_type": "markdown",
   "metadata": {},
   "source": [
    "## Operator Overloading\n",
    "allows you to define the behavior of operators for custom objects you achieve this by overriding specific magic methods in your class."
   ]
  },
  {
   "cell_type": "code",
   "execution_count": 18,
   "metadata": {},
   "outputs": [
    {
     "name": "stdout",
     "output_type": "stream",
     "text": [
      "Vector(7, 8)\n",
      "-10\n",
      "Vector(6, 30)\n"
     ]
    }
   ],
   "source": [
    "#matmaticl operator overloading\n",
    "class Vector:\n",
    "    def __init__(self, a, b):\n",
    "        self.a = a\n",
    "        self.b = b\n",
    "    \n",
    "    def __add__(self, other):\n",
    "        return Vector(self.a + other.a, self.b + other.b)\n",
    "    \n",
    "    def __str__(self):\n",
    "        return f\"Vector({self.a}, {self.b})\"\n",
    "    \n",
    "    def __mul__(self, other):\n",
    "        return self.a * other.a + self.b * other.b\n",
    "    \n",
    "    def __rmul__(self, other):\n",
    "        return Vector(self.a * other, self.b * other)\n",
    "    \n",
    "    def __repr__(self):\n",
    "        return f\"Vector({self.a}, {self.b})\"\n",
    "\n",
    "# object\n",
    "v1 = Vector(2, 10)\n",
    "v2 = Vector(5, -2)\n",
    "print(v1 + v2)\n",
    "print(v1 * v2)\n",
    "\n",
    "print(3 * v1)\n",
    "\n",
    "\n",
    "\n",
    "\n",
    "  "
   ]
  },
  {
   "cell_type": "code",
   "execution_count": 19,
   "metadata": {},
   "outputs": [
    {
     "name": "stdout",
     "output_type": "stream",
     "text": [
      "Complex(7, 1)\n",
      "Complex(16, 11)\n",
      "Complex(6, 9)\n"
     ]
    }
   ],
   "source": [
    "##overloading  operator for complex number\n",
    "class Complex:\n",
    "    def __init__(self, r, i):\n",
    "        self.r = r\n",
    "        self.i = i\n",
    "    \n",
    "    def __add__(self, other):\n",
    "        return Complex(self.r + other.r, self.i + other.i)\n",
    "    \n",
    "    def __str__(self):\n",
    "        return f\"Complex({self.r}, {self.i})\"\n",
    "    \n",
    "    def __mul__(self, other):\n",
    "        return Complex(self.r * other.r - self.i * other.i, self.i * other.r + self.r * other.i)\n",
    "    \n",
    "    def __rmul__(self, other):\n",
    "        return Complex(self.r * other, self.i * other)\n",
    "    \n",
    "    def __repr__(self):\n",
    "        return f\"Complex({self.r}, {self.i})\"\n",
    "    \n",
    "\n",
    "c1 = Complex(2, 3)\n",
    "c2 = Complex(5, -2)\n",
    "print(c1 + c2)\n",
    "print(c1 * c2)\n",
    "print(3 * c1)"
   ]
  }
 ],
 "metadata": {
  "kernelspec": {
   "display_name": "Python 3",
   "language": "python",
   "name": "python3"
  },
  "language_info": {
   "codemirror_mode": {
    "name": "ipython",
    "version": 3
   },
   "file_extension": ".py",
   "mimetype": "text/x-python",
   "name": "python",
   "nbconvert_exporter": "python",
   "pygments_lexer": "ipython3",
   "version": "3.12.0"
  }
 },
 "nbformat": 4,
 "nbformat_minor": 2
}
