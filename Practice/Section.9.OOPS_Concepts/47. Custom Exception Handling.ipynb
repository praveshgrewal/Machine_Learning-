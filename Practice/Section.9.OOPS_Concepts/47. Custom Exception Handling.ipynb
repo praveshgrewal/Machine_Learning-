{
 "cells": [
  {
   "cell_type": "markdown",
   "metadata": {},
   "source": [
    "## Custom exception (raise and throw an exception)"
   ]
  },
  {
   "cell_type": "code",
   "execution_count": 33,
   "metadata": {},
   "outputs": [
    {
     "name": "stdout",
     "output_type": "stream",
     "text": [
      "your age should be grether than 20 and less than 30\n"
     ]
    }
   ],
   "source": [
    "# Custom Exception Handling\n",
    "\n",
    "# class Error(Exception):\n",
    "#     pass\n",
    "\n",
    "# class dobError(Error):\n",
    "#     pass\n",
    "\n",
    "# year = int(input(\"Enter DOB : \"))\n",
    "# age = 2024-year\n",
    "\n",
    "# try:\n",
    "#     if age <=30 and age >= 20:\n",
    "#         print(\"Age is valid\")\n",
    "#     else:\n",
    "#         raise dobError(\"Age is not valid\")\n",
    "\n",
    "# except dobError:\n",
    "#     print(\"your age should be grether than 20 and less than 30\")\n",
    "\n",
    "\n",
    "\n"
   ]
  },
  {
   "cell_type": "code",
   "execution_count": null,
   "metadata": {},
   "outputs": [],
   "source": [
    "\n",
    "\n",
    "\n"
   ]
  },
  {
   "cell_type": "code",
   "execution_count": 39,
   "metadata": {},
   "outputs": [
    {
     "name": "stdout",
     "output_type": "stream",
     "text": [
      "Your age should be greater than or equal to 20 and less than 30\n"
     ]
    }
   ],
   "source": [
    "from datetime import date\n",
    "\n",
    "class Error(Exception):\n",
    "    pass\n",
    "\n",
    "class dobError(Error):\n",
    "    pass\n",
    "\n",
    "try:\n",
    "  year = int(input(\"Enter DOB (YYYY): \"))\n",
    "  current_year = date.today().year\n",
    "  age = current_year - year\n",
    "  if 20 <= age <= 30:\n",
    "      print(\"Age is valid\")\n",
    "  else:\n",
    "      raise dobError(\"Your age should be greater than or equal to 20 and less than 30\")\n",
    "except dobError as e:\n",
    "  print(e)\n"
   ]
  }
 ],
 "metadata": {
  "kernelspec": {
   "display_name": "Python 3",
   "language": "python",
   "name": "python3"
  },
  "language_info": {
   "codemirror_mode": {
    "name": "ipython",
    "version": 3
   },
   "file_extension": ".py",
   "mimetype": "text/x-python",
   "name": "python",
   "nbconvert_exporter": "python",
   "pygments_lexer": "ipython3",
   "version": "3.12.0"
  }
 },
 "nbformat": 4,
 "nbformat_minor": 2
}
