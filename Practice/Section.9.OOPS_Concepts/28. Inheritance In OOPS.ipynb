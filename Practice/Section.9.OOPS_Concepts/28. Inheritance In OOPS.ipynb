{
 "cells": [
  {
   "cell_type": "markdown",
   "metadata": {},
   "source": [
    "Inheritance in python"
   ]
  },
  {
   "cell_type": "markdown",
   "metadata": {},
   "source": [
    "interitance is a fundamental concept in OOPs that allows a class to inherit attributes and methods from another class. This lession cover single inheritance and multiple inheritance demonstrating how to create and use them in python\n"
   ]
  },
  {
   "cell_type": "code",
   "execution_count": 6,
   "metadata": {},
   "outputs": [
    {
     "name": "stdout",
     "output_type": "stream",
     "text": [
      "the person will drive the bmw car\n"
     ]
    }
   ],
   "source": [
    "#interitance in oops(single level inheritance)\n",
    "#parent class\n",
    "class Car:\n",
    "    def __init__(self,model,color):\n",
    "        self.model=model\n",
    "        self.color=color\n",
    "\n",
    "    def drive(self):\n",
    "        print(f\"the person will drive the {self.model} car\")\n",
    "\n",
    "\n",
    "car1= Car(\"bmw\",\"blue\")\n",
    "car1.drive()\n",
    "\n",
    "\n",
    "\n"
   ]
  },
  {
   "cell_type": "code",
   "execution_count": 8,
   "metadata": {},
   "outputs": [
    {
     "name": "stdout",
     "output_type": "stream",
     "text": [
      "the person will drive the 2022 tesla car\n"
     ]
    }
   ],
   "source": [
    "class Tesla(Car):\n",
    "    def __init__(self,model,color,year):\n",
    "        super().__init__(model,color)\n",
    "        self.year=year\n",
    "\n",
    "    def drive(self):\n",
    "        print(f\"the person will drive the {self.year} {self.model} car\")\n",
    "\n",
    "\n",
    "tesla= Tesla(\"tesla\",\"red\",2022)\n",
    "tesla.drive()"
   ]
  },
  {
   "cell_type": "code",
   "execution_count": 13,
   "metadata": {},
   "outputs": [
    {
     "name": "stdout",
     "output_type": "stream",
     "text": [
      "jony says woof\n",
      "jony\n",
      "jiger\n"
     ]
    }
   ],
   "source": [
    "# multiple inheritance\n",
    "#when a class inherits from more than one base class\n",
    "#base class 1\n",
    "class Animal:\n",
    "    def __init__(self,name):\n",
    "        self.name=name\n",
    "\n",
    "    def speak (self):\n",
    "        print(\"subclass must implement this method\")\n",
    "\n",
    "\n",
    "#base class 2\n",
    "class Pet:\n",
    "    def __init__(self,owner):\n",
    "        self.owner=owner\n",
    "\n",
    "#derived class\n",
    "class Dog(Animal,Pet):\n",
    "    def __init__(self,name,owner):\n",
    "        Animal.__init__(self,name)\n",
    "        Pet.__init__(self,owner)\n",
    "\n",
    "    def speak(self):\n",
    "        return f\"{self.name} says woof\"\n",
    "    \n",
    "#create an object\n",
    "my_dog=Dog(\"jony\",\"jiger\")\n",
    "print(my_dog.speak())\n",
    "print(my_dog.name)\n",
    "print(my_dog.owner)"
   ]
  },
  {
   "cell_type": "code",
   "execution_count": null,
   "metadata": {},
   "outputs": [],
   "source": []
  }
 ],
 "metadata": {
  "kernelspec": {
   "display_name": "Python 3",
   "language": "python",
   "name": "python3"
  },
  "language_info": {
   "codemirror_mode": {
    "name": "ipython",
    "version": 3
   },
   "file_extension": ".py",
   "mimetype": "text/x-python",
   "name": "python",
   "nbconvert_exporter": "python",
   "pygments_lexer": "ipython3",
   "version": "3.12.0"
  }
 },
 "nbformat": 4,
 "nbformat_minor": 2
}
