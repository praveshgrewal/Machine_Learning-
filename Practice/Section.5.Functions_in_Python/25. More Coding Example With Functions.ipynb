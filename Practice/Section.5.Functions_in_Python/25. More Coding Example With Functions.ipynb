{
 "cells": [
  {
   "cell_type": "markdown",
   "metadata": {},
   "source": [
    "#function examples"
   ]
  },
  {
   "cell_type": "markdown",
   "metadata": {},
   "source": [
    "1. Temperature conversion"
   ]
  },
  {
   "cell_type": "code",
   "execution_count": 4,
   "metadata": {},
   "outputs": [
    {
     "name": "stdout",
     "output_type": "stream",
     "text": [
      "77.0\n",
      "25.0\n",
      "Invalid unit\n"
     ]
    }
   ],
   "source": [
    "def covert_temp(temp,unit):\n",
    "    \"\"\"this function convert temp btw celsius and fahrenheit\"\"\"\n",
    "    if unit == \"C\":\n",
    "        return (temp * 1.8) + 32\n",
    "    elif unit == \"F\":\n",
    "        return (temp - 32) / 1.8\n",
    "    else:\n",
    "        return \"Invalid unit\"\n",
    "    \n",
    "\n",
    "#testing\n",
    "print(covert_temp(25,\"C\"))\n",
    "print(covert_temp(77,\"F\"))\n",
    "print(covert_temp(100,\"G\"))"
   ]
  },
  {
   "cell_type": "markdown",
   "metadata": {},
   "source": [
    "2. password strength checker"
   ]
  },
  {
   "cell_type": "code",
   "execution_count": 15,
   "metadata": {},
   "outputs": [
    {
     "name": "stdout",
     "output_type": "stream",
     "text": [
      "strong password\n",
      "week password\n"
     ]
    }
   ],
   "source": [
    "def is_strong(password):\n",
    "    \"\"\"password checker\"\"\"\n",
    "\n",
    "    if len(password) < 8:\n",
    "        return \"week password\"\n",
    "    if not any(char.isdigit() for char in password):\n",
    "        return \"week password\"\n",
    "    if not any(char.isupper() for char in password):\n",
    "        return \"week password\"\n",
    "    if not any(char.islower() for char in password):\n",
    "        return \"week password\"\n",
    "    if not any (char in \"!@#$%^&*()_+{}|:\" for char in password):   \n",
    "        return \"week password\"\n",
    "    return \"strong password\"\n",
    "    \n",
    "#checking\n",
    "\n",
    "print(is_strong(\"Jiger@123\"))\n",
    "\n",
    "print(is_strong(\"Jigerkumar\"))"
   ]
  },
  {
   "cell_type": "markdown",
   "metadata": {},
   "source": [
    "3. calculate the total cost of items in a shopping cart"
   ]
  },
  {
   "cell_type": "code",
   "execution_count": 18,
   "metadata": {},
   "outputs": [
    {
     "name": "stdout",
     "output_type": "stream",
     "text": [
      "460\n"
     ]
    }
   ],
   "source": [
    "#calculate the total cost of items in a shopping cart\n",
    "\n",
    "def shopping_cost(cart):\n",
    "    total_cost = 0\n",
    "    for item in cart:\n",
    "        total_cost += item['price'] * item['quantity']\n",
    "    return total_cost\n",
    "    \n",
    "\n",
    "#example shopping cart\n",
    "cart=[\n",
    "    {'name':'Apple','price':100,'quantity':2},\n",
    "    {'name':'Orange','price':50,'quantity':1},\n",
    "    {'name':'Mango','price':70,'quantity':3}\n",
    "]\n",
    "\n",
    "#checking\n",
    "print(shopping_cost(cart))\n",
    "\n",
    "\n",
    "\n",
    "\n",
    "\n"
   ]
  },
  {
   "cell_type": "markdown",
   "metadata": {},
   "source": [
    "4. checking if a string is palindrome"
   ]
  },
  {
   "cell_type": "code",
   "execution_count": 23,
   "metadata": {},
   "outputs": [
    {
     "name": "stdout",
     "output_type": "stream",
     "text": [
      "True\n",
      "False\n"
     ]
    }
   ],
   "source": [
    "def is_plan(s):\n",
    "    s=s.lower().replace(\" \",\"\")\n",
    "    return s==s[::-1]\n",
    "\n",
    "print(is_plan(\"racecar\"))\n",
    "print(is_plan(\"hello\"))\n"
   ]
  },
  {
   "cell_type": "markdown",
   "metadata": {},
   "source": [
    "5. calaculate factorials of a number using recursion"
   ]
  },
  {
   "cell_type": "code",
   "execution_count": 24,
   "metadata": {},
   "outputs": [
    {
     "name": "stdout",
     "output_type": "stream",
     "text": [
      "120\n"
     ]
    }
   ],
   "source": [
    "def factorial(n):\n",
    "    if n == 0:\n",
    "        return 1\n",
    "    else:\n",
    "        return n * factorial(n-1)\n",
    "\n",
    "print(factorial(5))"
   ]
  },
  {
   "cell_type": "markdown",
   "metadata": {},
   "source": [
    "6. function to read a file and count the frequncy of each word"
   ]
  },
  {
   "cell_type": "code",
   "execution_count": 29,
   "metadata": {},
   "outputs": [
    {
     "name": "stdout",
     "output_type": "stream",
     "text": [
      "{'hii': 1, 'this': 1, 'is': 1, 'jiger': 1, 'grewal': 2}\n"
     ]
    }
   ],
   "source": [
    "def count_freqency(file_path):\n",
    "    word_count = {}\n",
    "    with open(file_path, 'r') as file:\n",
    "        for line in file:\n",
    "            words = line.split()\n",
    "            for word in words:\n",
    "                word= word.lower().strip(\",.!?\")\n",
    "                word_count[word] = word_count.get(word, 0) + 1\n",
    "\n",
    "    return word_count\n",
    "\n",
    "#testing\n",
    "\n",
    "filepath = \"sample.txt\"\n",
    "print(count_freqency(filepath))\n",
    "               \n",
    "\n"
   ]
  },
  {
   "cell_type": "markdown",
   "metadata": {},
   "source": [
    "7. validate email address"
   ]
  },
  {
   "cell_type": "code",
   "execution_count": 34,
   "metadata": {},
   "outputs": [
    {
     "name": "stdout",
     "output_type": "stream",
     "text": [
      "True\n",
      "False\n"
     ]
    }
   ],
   "source": [
    "import re\n",
    "\n",
    "#email validation\n",
    "def is_valid_email(email):\n",
    "    pattern = r'^[a-zA-Z0-9._%+-]+@[a-zA-Z0-9.-]+\\.[a-zA-Z]{2,}$'\n",
    "    return re.match(pattern, email) is not None\n",
    "\n",
    "#testing\n",
    "print(is_valid_email(\"Ji9tJ@example.com\"))\n",
    "print(is_valid_email(\"hello@.com\"))\n",
    "    "
   ]
  }
 ],
 "metadata": {
  "kernelspec": {
   "display_name": "Python 3",
   "language": "python",
   "name": "python3"
  },
  "language_info": {
   "codemirror_mode": {
    "name": "ipython",
    "version": 3
   },
   "file_extension": ".py",
   "mimetype": "text/x-python",
   "name": "python",
   "nbconvert_exporter": "python",
   "pygments_lexer": "ipython3",
   "version": "3.12.0"
  }
 },
 "nbformat": 4,
 "nbformat_minor": 2
}
