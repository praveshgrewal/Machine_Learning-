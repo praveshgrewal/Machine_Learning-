{
 "cells": [
  {
   "cell_type": "code",
   "execution_count": 1,
   "metadata": {},
   "outputs": [
    {
     "name": "stdout",
     "output_type": "stream",
     "text": [
      "directory new_dir created\n"
     ]
    }
   ],
   "source": [
    "#create a new directory\n",
    "new = \"new_dir\"\n",
    "import os\n",
    "os.mkdir(new)\n",
    "print(f\"directory {new} created\")\n",
    "\n",
    "\n",
    "\n"
   ]
  },
  {
   "cell_type": "code",
   "execution_count": 3,
   "metadata": {},
   "outputs": [
    {
     "name": "stdout",
     "output_type": "stream",
     "text": [
      "['24. File Operation In Python.ipynb', '25. Working With File Paths.ipynb', 'demofile.txt', 'destination.txt', 'new_dir', 'num.bin']\n"
     ]
    }
   ],
   "source": [
    "#list all file and directory\n",
    "items = os.listdir('.')\n",
    "print(items)"
   ]
  },
  {
   "cell_type": "code",
   "execution_count": 5,
   "metadata": {},
   "outputs": [
    {
     "name": "stdout",
     "output_type": "stream",
     "text": [
      "e:\\complete machine learning\\Machine_Learning\\Practice\\Section.7. File_handling_in_python\\folder\\file.txt\n"
     ]
    }
   ],
   "source": [
    "##joing path\n",
    "dir_name = \"folder\"\n",
    "file_name = \"file.txt\"\n",
    "\n",
    "path = os.path.join(os.getcwd(),dir_name, file_name)\n",
    "print(path)\n",
    "\n"
   ]
  },
  {
   "cell_type": "code",
   "execution_count": 7,
   "metadata": {},
   "outputs": [
    {
     "name": "stdout",
     "output_type": "stream",
     "text": [
      "example.txt does not exist\n"
     ]
    }
   ],
   "source": [
    "r_file = \"example.txt\"\n",
    "if os.path.exists(r_file):\n",
    "    print(f\"{r_file} exists\")\n",
    "else:\n",
    "    print(f\"{r_file} does not exist\")\n",
    "     "
   ]
  },
  {
   "cell_type": "code",
   "execution_count": 8,
   "metadata": {},
   "outputs": [
    {
     "name": "stdout",
     "output_type": "stream",
     "text": [
      "exapmle.txt is neither a file nor a directory\n"
     ]
    }
   ],
   "source": [
    "#cheking if a path is a directory\n",
    "path = \"exapmle.txt\"\n",
    "\n",
    "if os.path.isfile (path):#check if a path is a file\n",
    "    print(f\"{path} is a file\")\n",
    "elif os.path.isdir(path):#check if a path is a directory\n",
    "    print(f\"{path} is a directory\")\n",
    "else:\n",
    "    print(f\"{path} is neither a file nor a directory\")"
   ]
  },
  {
   "cell_type": "code",
   "execution_count": 9,
   "metadata": {},
   "outputs": [
    {
     "name": "stdout",
     "output_type": "stream",
     "text": [
      "e:\\complete machine learning\\Machine_Learning\\Practice\\Section.7. File_handling_in_python\\example.txt\n"
     ]
    }
   ],
   "source": [
    "##gettin absolute path\n",
    "path = \"example.txt\"\n",
    "print(os.path.abspath(path))\n",
    "\n"
   ]
  },
  {
   "cell_type": "code",
   "execution_count": null,
   "metadata": {},
   "outputs": [],
   "source": []
  }
 ],
 "metadata": {
  "kernelspec": {
   "display_name": "Python 3",
   "language": "python",
   "name": "python3"
  },
  "language_info": {
   "codemirror_mode": {
    "name": "ipython",
    "version": 3
   },
   "file_extension": ".py",
   "mimetype": "text/x-python",
   "name": "python",
   "nbconvert_exporter": "python",
   "pygments_lexer": "ipython3",
   "version": "3.12.0"
  }
 },
 "nbformat": 4,
 "nbformat_minor": 2
}
