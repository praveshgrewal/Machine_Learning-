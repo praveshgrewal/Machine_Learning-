{
 "cells": [
  {
   "cell_type": "markdown",
   "metadata": {},
   "source": [
    "file handling is a crucial part of any programming lang. python provies build in functins and metnods to read from and write to file both text and binary . this lesson will cover the basic of file handling including reading and writing text fie and binary file"
   ]
  },
  {
   "cell_type": "code",
   "execution_count": 2,
   "metadata": {},
   "outputs": [
    {
     "name": "stdout",
     "output_type": "stream",
     "text": [
      "hii this is \n",
      "jiger\n",
      "grewal\n",
      "\n"
     ]
    }
   ],
   "source": [
    "#read a whole file \n",
    "with open(\"demofile.txt\") as myfile:\n",
    "    contant = myfile.read()\n",
    "    print(contant)"
   ]
  },
  {
   "cell_type": "code",
   "execution_count": 6,
   "metadata": {},
   "outputs": [
    {
     "name": "stdout",
     "output_type": "stream",
     "text": [
      "hii this is\n",
      "jiger\n",
      "grewal\n"
     ]
    }
   ],
   "source": [
    "#read line by line\n",
    "with open(\"demofile.txt\",'r') as myfile:\n",
    "    for line in myfile:\n",
    "        print(line.strip())#strip() used to remove new lines character"
   ]
  },
  {
   "cell_type": "code",
   "execution_count": 10,
   "metadata": {},
   "outputs": [],
   "source": [
    "#write a file\n",
    "with open(\"demofile.txt\",'w') as myfile:\n",
    "    myfile.write(\"I love python\\n\")\n",
    "    myfile.write(\"amazing language\")\n",
    "\n"
   ]
  },
  {
   "cell_type": "code",
   "execution_count": 12,
   "metadata": {},
   "outputs": [],
   "source": [
    "#write a file without overwriting\n",
    "with open(\"demofile.txt\",'a') as myfile: #a for append\n",
    "    myfile.write(\"\\nI am new here\\n\")\n",
    "    myfile.write(\"amazing language\")"
   ]
  },
  {
   "cell_type": "code",
   "execution_count": 13,
   "metadata": {},
   "outputs": [],
   "source": [
    "##writing multiple lines\n",
    "with open(\"demofile.txt\",'a') as myfile: #a for append\n",
    "    myfile.write(\"\\nI am new here\\n\")\n",
    "    myfile.writelines(\"amazing language\\n\")# writelines for multiple lines\n",
    "    myfile.writelines(\"I am new here\\n\")\n",
    "    myfile.writelines(\"amazing language\")\n"
   ]
  },
  {
   "cell_type": "code",
   "execution_count": 14,
   "metadata": {},
   "outputs": [],
   "source": [
    "##reading binary file\n",
    "\n",
    "#writing to a binary file\n",
    "data = b'\\x00\\x01\\x02\\x03\\x04\\x00\\x00\\x09'\n",
    "with open ('num.bin', 'wb') as f: #read and write in binary\n",
    "    f.write(data)\n"
   ]
  },
  {
   "cell_type": "code",
   "execution_count": 16,
   "metadata": {},
   "outputs": [
    {
     "name": "stdout",
     "output_type": "stream",
     "text": [
      "b'\\x00\\x01\\x02\\x03\\x04\\x00\\x00\\t'\n"
     ]
    }
   ],
   "source": [
    "#reading binary file\n",
    "with open ('num.bin', 'rb') as f: #read and write in binary\n",
    "    content = f.read()\n",
    "    print(content)"
   ]
  },
  {
   "cell_type": "code",
   "execution_count": 17,
   "metadata": {},
   "outputs": [],
   "source": [
    "#read the content from source text and write to a destination text file\n",
    "with open(\"demofile.txt\",'r') as source:\n",
    "    with open(\"destination.txt\",'w') as dest:\n",
    "        for line in source:\n",
    "            dest.write(line)"
   ]
  },
  {
   "cell_type": "code",
   "execution_count": 18,
   "metadata": {},
   "outputs": [
    {
     "name": "stdout",
     "output_type": "stream",
     "text": [
      "I love python\n",
      "amazing languageI am new here\n",
      "amazing language\n",
      "I am new here\n",
      "amazing language\n",
      "I am new here\n",
      "amazing language\n",
      "I am new here\n",
      "amazing language\n",
      "153\n",
      "28\n",
      "9\n"
     ]
    }
   ],
   "source": [
    "#read a text file and coutn the number of lines , words and characters\n",
    "with open(\"demofile.txt\",'r') as myfile:\n",
    "    content = myfile.read()\n",
    "    print(content)\n",
    "    print(len(content))\n",
    "    print(len(content.split()))\n",
    "    print(len(content.splitlines()))"
   ]
  },
  {
   "cell_type": "code",
   "execution_count": 24,
   "metadata": {},
   "outputs": [
    {
     "name": "stdout",
     "output_type": "stream",
     "text": [
      "I love python\n",
      "amazing language\n"
     ]
    }
   ],
   "source": [
    "#writing and then reading\n",
    "\n",
    "with open(\"demofile.txt\",'w+') as myfile: #w+ for write and read\n",
    "    myfile.write(\"I love python\\n\")\n",
    "    myfile.write(\"amazing language\")\n",
    "#move the file pointer to the beginning\n",
    "    myfile.seek(0) #move the file pointer to the beginning\n",
    "    content = myfile.read()\n",
    "    print(content)"
   ]
  },
  {
   "cell_type": "code",
   "execution_count": null,
   "metadata": {},
   "outputs": [],
   "source": []
  }
 ],
 "metadata": {
  "kernelspec": {
   "display_name": "Python 3",
   "language": "python",
   "name": "python3"
  },
  "language_info": {
   "codemirror_mode": {
    "name": "ipython",
    "version": 3
   },
   "file_extension": ".py",
   "mimetype": "text/x-python",
   "name": "python",
   "nbconvert_exporter": "python",
   "pygments_lexer": "ipython3",
   "version": "3.12.0"
  }
 },
 "nbformat": 4,
 "nbformat_minor": 2
}
