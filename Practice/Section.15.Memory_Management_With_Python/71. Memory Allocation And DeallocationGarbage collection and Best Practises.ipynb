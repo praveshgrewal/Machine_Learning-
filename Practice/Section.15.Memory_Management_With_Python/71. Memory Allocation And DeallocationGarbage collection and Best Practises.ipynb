{
 "cells": [
  {
   "cell_type": "markdown",
   "metadata": {},
   "source": [
    "# Python Memory Management\n",
    "Memory management in Python involves a combination of automatic garbage collection, reference counting,\n",
    "and various internal optimizations to efficiently manage memory allocation and deallocation. Understanding\n",
    "these mechanisms can help developers write more efficient and robust applications.\n",
    "1. Key Concepts in Python Memory Management\n",
    "2. Memory Allocation and Deallocation\n",
    "3. Reference Counting\n",
    "4. Garbage Collection\n",
    "5. The gc Module\n",
    "6. Memory Management Best Practices"
   ]
  },
  {
   "cell_type": "code",
   "execution_count": 75,
   "metadata": {},
   "outputs": [
    {
     "name": "stdout",
     "output_type": "stream",
     "text": [
      "2\n"
     ]
    }
   ],
   "source": [
    "import sys\n",
    "a=[]\n",
    "#2 (one from list and one from garbage collector)\n",
    "print(sys.getrefcount(a))"
   ]
  },
  {
   "cell_type": "code",
   "execution_count": 76,
   "metadata": {},
   "outputs": [
    {
     "name": "stdout",
     "output_type": "stream",
     "text": [
      "3\n"
     ]
    }
   ],
   "source": [
    "b=a\n",
    "#3\n",
    "print(sys.getrefcount(b))"
   ]
  },
  {
   "cell_type": "code",
   "execution_count": 77,
   "metadata": {},
   "outputs": [],
   "source": [
    "# del b\n"
   ]
  },
  {
   "cell_type": "code",
   "execution_count": 78,
   "metadata": {},
   "outputs": [
    {
     "name": "stdout",
     "output_type": "stream",
     "text": [
      "3\n"
     ]
    }
   ],
   "source": [
    "print(sys.getrefcount(a))"
   ]
  },
  {
   "cell_type": "markdown",
   "metadata": {},
   "source": [
    "# Garbage collection\n",
    "Python includes a cyclic garbage  to handle reference cycles. reference cycles occur when objects reference each\n",
    "other , preventing their reference counts from reaching zero."
   ]
  },
  {
   "cell_type": "code",
   "execution_count": 79,
   "metadata": {},
   "outputs": [],
   "source": [
    "import gc\n",
    "# enable garbage collection\n",
    "gc.enable()"
   ]
  },
  {
   "cell_type": "code",
   "execution_count": 80,
   "metadata": {},
   "outputs": [],
   "source": [
    "gc.disable()"
   ]
  },
  {
   "cell_type": "code",
   "execution_count": 81,
   "metadata": {},
   "outputs": [
    {
     "data": {
      "text/plain": [
       "84"
      ]
     },
     "execution_count": 81,
     "metadata": {},
     "output_type": "execute_result"
    }
   ],
   "source": [
    "gc.collect()"
   ]
  },
  {
   "cell_type": "code",
   "execution_count": 82,
   "metadata": {},
   "outputs": [
    {
     "name": "stdout",
     "output_type": "stream",
     "text": [
      "[{'collections': 181, 'collected': 4731, 'uncollectable': 0}, {'collections': 16, 'collected': 269, 'uncollectable': 0}, {'collections': 25, 'collected': 880, 'uncollectable': 0}]\n"
     ]
    }
   ],
   "source": [
    "## get garbage collection stats\n",
    "print(gc.get_stats())"
   ]
  },
  {
   "cell_type": "code",
   "execution_count": 83,
   "metadata": {},
   "outputs": [
    {
     "name": "stdout",
     "output_type": "stream",
     "text": [
      "[]\n"
     ]
    }
   ],
   "source": [
    "## get unreachable objects\n",
    "print(gc.garbage)"
   ]
  },
  {
   "cell_type": "markdown",
   "metadata": {},
   "source": [
    "# Memory Management Best Practices\n",
    "1. Use Local Variables: Local variables have a shorter lifespan and are freed sooner than global variables.\n",
    "2. Avoid Circular References: Circular references can lead to memory leaks if not properly managed.\n",
    "3. Use Generators: Generators produce items one at a time and only keep one item in memory at a time,\n",
    "making them memory efficient.\n",
    "4. Explicitly Delete Objects: Use the del statement to delete variables and objects explicitly.\n",
    "5. Profile Memory Usage: Use memory profiling tools like tracemalloc and memory_profiler to identify\n",
    "memory leaks and optimize memory usage."
   ]
  },
  {
   "cell_type": "code",
   "execution_count": 84,
   "metadata": {},
   "outputs": [
    {
     "name": "stdout",
     "output_type": "stream",
     "text": [
      "Object created\n",
      "Object created\n"
     ]
    }
   ],
   "source": [
    "\n",
    "#handle circular reference \n",
    "import gc\n",
    "class MyObject:\n",
    "    def __init__(self,name):\n",
    "        self.name=name\n",
    "        print('Object created')\n",
    "\n",
    "    def __del__(self):\n",
    "        print('Object deleted')\n",
    "\n",
    "\n",
    "#create circular reference\n",
    "obj1=MyObject('obj1')\n",
    "obj2=MyObject('obj2')\n",
    "obj1.ref=obj2\n",
    "obj2.ref=obj1\n",
    "\n",
    "del obj1\n",
    "del obj2\n",
    "\n"
   ]
  },
  {
   "cell_type": "code",
   "execution_count": 85,
   "metadata": {},
   "outputs": [
    {
     "name": "stdout",
     "output_type": "stream",
     "text": [
      "Object deleted\n",
      "Object deleted\n"
     ]
    },
    {
     "data": {
      "text/plain": [
       "9"
      ]
     },
     "execution_count": 85,
     "metadata": {},
     "output_type": "execute_result"
    }
   ],
   "source": [
    "\n",
    "#manually trigger garbage collection\n",
    "gc.collect()"
   ]
  },
  {
   "cell_type": "code",
   "execution_count": 86,
   "metadata": {},
   "outputs": [
    {
     "name": "stdout",
     "output_type": "stream",
     "text": [
      "[]\n"
     ]
    }
   ],
   "source": [
    "#print collected objects\n",
    "print(gc.garbage)"
   ]
  },
  {
   "cell_type": "code",
   "execution_count": 87,
   "metadata": {},
   "outputs": [
    {
     "name": "stdout",
     "output_type": "stream",
     "text": [
      "0\n",
      "1\n",
      "2\n",
      "3\n",
      "4\n",
      "5\n",
      "6\n",
      "7\n",
      "8\n",
      "9\n",
      "10\n",
      "11\n"
     ]
    }
   ],
   "source": [
    "#generator for memory efficient \n",
    "def generator(n):\n",
    "    for i in range(n):\n",
    "        yield i\n",
    "\n",
    "##use the generator\n",
    "for num in generator(5000000):\n",
    "    print(num)\n",
    "    if num>10:\n",
    "        break"
   ]
  },
  {
   "cell_type": "code",
   "execution_count": 88,
   "metadata": {},
   "outputs": [],
   "source": [
    "#profiling memory usage\n",
    "import tracemalloc\n",
    "def create_list():\n",
    "    return [i for i in range(10000)]\n",
    "\n",
    "def main():\n",
    "    tracemalloc.start()\n",
    "    create_list()\n",
    "    snapshot= tracemalloc.take_snapshot()\n",
    "    top_stats = snapshot.statistics('lineno')\n",
    "\n",
    "    print(\"[Top 10]\")\n",
    "    for stat in top_stats[::]:\n",
    "        print(stat)\n",
    "\n"
   ]
  },
  {
   "cell_type": "code",
   "execution_count": 89,
   "metadata": {},
   "outputs": [
    {
     "name": "stdout",
     "output_type": "stream",
     "text": [
      "[Top 10]\n",
      "e:\\complete machine learning\\Machine_Learning\\Practice\\venv\\Lib\\selectors.py:314: size=144 KiB, count=3, average=48.0 KiB\n",
      "e:\\complete machine learning\\Machine_Learning\\Practice\\venv\\Lib\\site-packages\\traitlets\\traitlets.py:731: size=11.5 KiB, count=188, average=63 B\n",
      "e:\\complete machine learning\\Machine_Learning\\Practice\\venv\\Lib\\site-packages\\zmq\\sugar\\attrsettr.py:45: size=10.7 KiB, count=233, average=47 B\n",
      "e:\\complete machine learning\\Machine_Learning\\Practice\\venv\\Lib\\site-packages\\IPython\\core\\compilerop.py:174: size=9509 B, count=133, average=71 B\n",
      "e:\\complete machine learning\\Machine_Learning\\Practice\\venv\\Lib\\tokenize.py:537: size=8648 B, count=154, average=56 B\n",
      "e:\\complete machine learning\\Machine_Learning\\Practice\\venv\\Lib\\site-packages\\traitlets\\traitlets.py:1543: size=8479 B, count=140, average=61 B\n",
      "e:\\complete machine learning\\Machine_Learning\\Practice\\venv\\Lib\\codeop.py:118: size=7718 B, count=107, average=72 B\n",
      "e:\\complete machine learning\\Machine_Learning\\Practice\\venv\\Lib\\json\\decoder.py:353: size=5848 B, count=75, average=78 B\n",
      "e:\\complete machine learning\\Machine_Learning\\Practice\\venv\\Lib\\site-packages\\jupyter_client\\jsonutil.py:111: size=5800 B, count=116, average=50 B\n",
      "e:\\complete machine learning\\Machine_Learning\\Practice\\venv\\Lib\\site-packages\\IPython\\core\\compilerop.py:86: size=5215 B, count=82, average=64 B\n",
      "e:\\complete machine learning\\Machine_Learning\\Practice\\venv\\Lib\\fnmatch.py:52: size=4680 B, count=2, average=2340 B\n",
      "e:\\complete machine learning\\Machine_Learning\\Practice\\venv\\Lib\\site-packages\\traitlets\\traitlets.py:1514: size=4440 B, count=37, average=120 B\n",
      "e:\\complete machine learning\\Machine_Learning\\Practice\\venv\\Lib\\site-packages\\jupyter_client\\session.py:1057: size=3593 B, count=30, average=120 B\n",
      "e:\\complete machine learning\\Machine_Learning\\Practice\\venv\\Lib\\site-packages\\IPython\\core\\history.py:836: size=2592 B, count=25, average=104 B\n",
      "e:\\complete machine learning\\Machine_Learning\\Practice\\venv\\Lib\\site-packages\\IPython\\core\\history.py:782: size=2403 B, count=20, average=120 B\n",
      "C:\\Users\\gurah\\AppData\\Local\\Temp\\ipykernel_16332\\2868438270.py:3: size=2360 B, count=10, average=236 B\n",
      "e:\\complete machine learning\\Machine_Learning\\Practice\\venv\\Lib\\site-packages\\ipykernel\\compiler.py:91: size=2283 B, count=22, average=104 B\n",
      "e:\\complete machine learning\\Machine_Learning\\Practice\\venv\\Lib\\site-packages\\ipykernel\\iostream.py:346: size=2264 B, count=25, average=91 B\n",
      "e:\\complete machine learning\\Machine_Learning\\Practice\\venv\\Lib\\site-packages\\zmq\\sugar\\socket.py:809: size=2112 B, count=12, average=176 B\n",
      "e:\\complete machine learning\\Machine_Learning\\Practice\\venv\\Lib\\site-packages\\ipykernel\\iostream.py:287: size=1928 B, count=19, average=101 B\n",
      "e:\\complete machine learning\\Machine_Learning\\Practice\\venv\\Lib\\site-packages\\ipykernel\\iostream.py:276: size=1904 B, count=18, average=106 B\n",
      "e:\\complete machine learning\\Machine_Learning\\Practice\\venv\\Lib\\site-packages\\jupyter_client\\session.py:100: size=1243 B, count=8, average=155 B\n",
      "e:\\complete machine learning\\Machine_Learning\\Practice\\venv\\Lib\\site-packages\\IPython\\core\\history.py:783: size=1115 B, count=4, average=279 B\n",
      "<string>:1: size=1080 B, count=10, average=108 B\n",
      "e:\\complete machine learning\\Machine_Learning\\Practice\\venv\\Lib\\site-packages\\IPython\\core\\interactiveshell.py:3104: size=1040 B, count=8, average=130 B\n",
      "e:\\complete machine learning\\Machine_Learning\\Practice\\venv\\Lib\\site-packages\\ipykernel\\zmqshell.py:549: size=920 B, count=9, average=102 B\n",
      "e:\\complete machine learning\\Machine_Learning\\Practice\\venv\\Lib\\site-packages\\IPython\\core\\history.py:805: size=900 B, count=20, average=45 B\n",
      "e:\\complete machine learning\\Machine_Learning\\Practice\\venv\\Lib\\asyncio\\base_events.py:755: size=840 B, count=7, average=120 B\n",
      "e:\\complete machine learning\\Machine_Learning\\Practice\\venv\\Lib\\site-packages\\tornado\\platform\\asyncio.py:219: size=800 B, count=11, average=73 B\n",
      "e:\\complete machine learning\\Machine_Learning\\Practice\\venv\\Lib\\asyncio\\events.py:84: size=768 B, count=8, average=96 B\n",
      "e:\\complete machine learning\\Machine_Learning\\Practice\\venv\\Lib\\threading.py:272: size=760 B, count=2, average=380 B\n",
      "e:\\complete machine learning\\Machine_Learning\\Practice\\venv\\Lib\\site-packages\\IPython\\core\\interactiveshell.py:3334: size=752 B, count=2, average=376 B\n",
      "e:\\complete machine learning\\Machine_Learning\\Practice\\venv\\Lib\\site-packages\\IPython\\core\\history.py:790: size=736 B, count=1, average=736 B\n",
      "e:\\complete machine learning\\Machine_Learning\\Practice\\venv\\Lib\\site-packages\\IPython\\core\\history.py:789: size=736 B, count=1, average=736 B\n",
      "e:\\complete machine learning\\Machine_Learning\\Practice\\venv\\Lib\\site-packages\\IPython\\core\\interactiveshell.py:3577: size=648 B, count=4, average=162 B\n",
      "e:\\complete machine learning\\Machine_Learning\\Practice\\venv\\Lib\\site-packages\\executing\\executing.py:282: size=648 B, count=3, average=216 B\n",
      "e:\\complete machine learning\\Machine_Learning\\Practice\\venv\\Lib\\site-packages\\IPython\\core\\interactiveshell.py:3517: size=648 B, count=2, average=324 B\n",
      "e:\\complete machine learning\\Machine_Learning\\Practice\\venv\\Lib\\site-packages\\jupyter_client\\jsonutil.py:75: size=624 B, count=3, average=208 B\n",
      "e:\\complete machine learning\\Machine_Learning\\Practice\\venv\\Lib\\inspect.py:265: size=600 B, count=5, average=120 B\n",
      "e:\\complete machine learning\\Machine_Learning\\Practice\\venv\\Lib\\site-packages\\ipykernel\\ipkernel.py:449: size=584 B, count=5, average=117 B\n",
      "e:\\complete machine learning\\Machine_Learning\\Practice\\venv\\Lib\\site-packages\\ipykernel\\ipkernel.py:362: size=584 B, count=2, average=292 B\n",
      "e:\\complete machine learning\\Machine_Learning\\Practice\\venv\\Lib\\site-packages\\IPython\\core\\compilerop.py:171: size=576 B, count=8, average=72 B\n",
      "e:\\complete machine learning\\Machine_Learning\\Practice\\venv\\Lib\\site-packages\\executing\\executing.py:318: size=568 B, count=1, average=568 B\n",
      "e:\\complete machine learning\\Machine_Learning\\Practice\\venv\\Lib\\site-packages\\zmq\\sugar\\socket.py:806: size=528 B, count=6, average=88 B\n",
      "e:\\complete machine learning\\Machine_Learning\\Practice\\venv\\Lib\\ast.py:52: size=512 B, count=7, average=73 B\n",
      "e:\\complete machine learning\\Machine_Learning\\Practice\\venv\\Lib\\_weakrefset.py:88: size=512 B, count=1, average=512 B\n",
      "e:\\complete machine learning\\Machine_Learning\\Practice\\venv\\Lib\\site-packages\\ipykernel\\kernelbase.py:435: size=496 B, count=2, average=248 B\n",
      "e:\\complete machine learning\\Machine_Learning\\Practice\\venv\\Lib\\site-packages\\zmq\\eventloop\\zmqstream.py:652: size=480 B, count=4, average=120 B\n",
      "e:\\complete machine learning\\Machine_Learning\\Practice\\venv\\Lib\\logging\\__init__.py:1622: size=480 B, count=2, average=240 B\n",
      "e:\\complete machine learning\\Machine_Learning\\Practice\\venv\\Lib\\site-packages\\ipykernel\\kernelbase.py:534: size=472 B, count=2, average=236 B\n",
      "e:\\complete machine learning\\Machine_Learning\\Practice\\venv\\Lib\\site-packages\\ipykernel\\kernelbase.py:775: size=464 B, count=3, average=155 B\n",
      "C:\\Users\\gurah\\AppData\\Local\\Temp\\ipykernel_16332\\1917905143.py:1: size=416 B, count=5, average=83 B\n",
      "e:\\complete machine learning\\Machine_Learning\\Practice\\venv\\Lib\\site-packages\\jupyter_client\\session.py:1085: size=416 B, count=2, average=208 B\n",
      "e:\\complete machine learning\\Machine_Learning\\Practice\\venv\\Lib\\site-packages\\ipykernel\\kernelbase.py:770: size=416 B, count=2, average=208 B\n",
      "e:\\complete machine learning\\Machine_Learning\\Practice\\venv\\Lib\\site-packages\\IPython\\core\\interactiveshell.py:3223: size=392 B, count=7, average=56 B\n",
      "e:\\complete machine learning\\Machine_Learning\\Practice\\venv\\Lib\\site-packages\\jupyter_client\\session.py:278: size=392 B, count=3, average=131 B\n",
      "e:\\complete machine learning\\Machine_Learning\\Practice\\venv\\Lib\\site-packages\\tornado\\platform\\asyncio.py:218: size=384 B, count=6, average=64 B\n",
      "e:\\complete machine learning\\Machine_Learning\\Practice\\venv\\Lib\\site-packages\\ipykernel\\iostream.py:588: size=384 B, count=6, average=64 B\n",
      "e:\\complete machine learning\\Machine_Learning\\Practice\\venv\\Lib\\asyncio\\events.py:34: size=384 B, count=6, average=64 B\n",
      "e:\\complete machine learning\\Machine_Learning\\Practice\\venv\\Lib\\site-packages\\IPython\\core\\interactiveshell.py:3237: size=384 B, count=3, average=128 B\n",
      "e:\\complete machine learning\\Machine_Learning\\Practice\\venv\\Lib\\site-packages\\ipykernel\\kernelbase.py:778: size=336 B, count=1, average=336 B\n",
      "e:\\complete machine learning\\Machine_Learning\\Practice\\venv\\Lib\\site-packages\\jupyter_client\\jsonutil.py:73: size=320 B, count=5, average=64 B\n",
      "e:\\complete machine learning\\Machine_Learning\\Practice\\venv\\Lib\\site-packages\\IPython\\core\\interactiveshell.py:3493: size=320 B, count=2, average=160 B\n",
      "e:\\complete machine learning\\Machine_Learning\\Practice\\venv\\Lib\\site-packages\\IPython\\core\\interactiveshell.py:3509: size=312 B, count=7, average=45 B\n",
      "e:\\complete machine learning\\Machine_Learning\\Practice\\venv\\Lib\\asyncio\\base_events.py:792: size=312 B, count=3, average=104 B\n",
      "e:\\complete machine learning\\Machine_Learning\\Practice\\venv\\Lib\\site-packages\\IPython\\core\\interactiveshell.py:3130: size=312 B, count=1, average=312 B\n",
      "e:\\complete machine learning\\Machine_Learning\\Practice\\venv\\Lib\\site-packages\\ipykernel\\iostream.py:527: size=304 B, count=4, average=76 B\n",
      "e:\\complete machine learning\\Machine_Learning\\Practice\\venv\\Lib\\site-packages\\executing\\executing.py:333: size=304 B, count=2, average=152 B\n",
      "e:\\complete machine learning\\Machine_Learning\\Practice\\venv\\Lib\\site-packages\\asttokens\\asttokens.py:50: size=304 B, count=2, average=152 B\n",
      "e:\\complete machine learning\\Machine_Learning\\Practice\\venv\\Lib\\site-packages\\ipykernel\\iostream.py:684: size=300 B, count=6, average=50 B\n",
      "e:\\complete machine learning\\Machine_Learning\\Practice\\venv\\Lib\\asyncio\\base_events.py:738: size=296 B, count=6, average=49 B\n",
      "e:\\complete machine learning\\Machine_Learning\\Practice\\venv\\Lib\\site-packages\\executing\\executing.py:223: size=296 B, count=2, average=148 B\n",
      "e:\\complete machine learning\\Machine_Learning\\Practice\\venv\\Lib\\site-packages\\tornado\\queues.py:248: size=288 B, count=2, average=144 B\n",
      "e:\\complete machine learning\\Machine_Learning\\Practice\\venv\\Lib\\asyncio\\base_events.py:427: size=288 B, count=2, average=144 B\n",
      "e:\\complete machine learning\\Machine_Learning\\Practice\\venv\\Lib\\threading.py:269: size=280 B, count=2, average=140 B\n",
      "e:\\complete machine learning\\Machine_Learning\\Practice\\venv\\Lib\\site-packages\\jupyter_client\\session.py:670: size=272 B, count=2, average=136 B\n",
      "e:\\complete machine learning\\Machine_Learning\\Practice\\venv\\Lib\\site-packages\\IPython\\core\\interactiveshell.py:3224: size=264 B, count=6, average=44 B\n",
      "e:\\complete machine learning\\Machine_Learning\\Practice\\venv\\Lib\\site-packages\\tornado\\platform\\asyncio.py:235: size=256 B, count=4, average=64 B\n",
      "e:\\complete machine learning\\Machine_Learning\\Practice\\venv\\Lib\\site-packages\\executing\\executing.py:171: size=248 B, count=3, average=83 B\n",
      "e:\\complete machine learning\\Machine_Learning\\Practice\\venv\\Lib\\site-packages\\ipykernel\\iostream.py:121: size=248 B, count=1, average=248 B\n",
      "e:\\complete machine learning\\Machine_Learning\\Practice\\venv\\Lib\\site-packages\\IPython\\core\\interactiveshell.py:3075: size=248 B, count=1, average=248 B\n",
      "e:\\complete machine learning\\Machine_Learning\\Practice\\venv\\Lib\\site-packages\\IPython\\core\\interactiveshell.py:3485: size=240 B, count=6, average=40 B\n",
      "e:\\complete machine learning\\Machine_Learning\\Practice\\venv\\Lib\\site-packages\\zmq\\eventloop\\zmqstream.py:368: size=240 B, count=2, average=120 B\n",
      "e:\\complete machine learning\\Machine_Learning\\Practice\\venv\\Lib\\site-packages\\jupyter_client\\session.py:672: size=240 B, count=2, average=120 B\n",
      "e:\\complete machine learning\\Machine_Learning\\Practice\\venv\\Lib\\site-packages\\decorator.py:203: size=240 B, count=2, average=120 B\n",
      "e:\\complete machine learning\\Machine_Learning\\Practice\\venv\\Lib\\asyncio\\futures.py:394: size=232 B, count=2, average=116 B\n",
      "C:\\Users\\gurah\\AppData\\Local\\Temp\\ipykernel_16332\\397527240.py:6: size=232 B, count=2, average=116 B\n",
      "C:\\Users\\gurah\\AppData\\Local\\Temp\\ipykernel_16332\\397527240.py:3: size=232 B, count=2, average=116 B\n",
      "C:\\Users\\gurah\\AppData\\Local\\Temp\\ipykernel_16332\\2962765314.py:2: size=232 B, count=2, average=116 B\n",
      "C:\\Users\\gurah\\AppData\\Local\\Temp\\ipykernel_16332\\2868438270.py:8: size=232 B, count=2, average=116 B\n",
      "C:\\Users\\gurah\\AppData\\Local\\Temp\\ipykernel_16332\\2868438270.py:4: size=232 B, count=2, average=116 B\n",
      "e:\\complete machine learning\\Machine_Learning\\Practice\\venv\\Lib\\site-packages\\ipykernel\\kernelbase.py:545: size=232 B, count=1, average=232 B\n",
      "e:\\complete machine learning\\Machine_Learning\\Practice\\venv\\Lib\\site-packages\\executing\\executing.py:258: size=224 B, count=5, average=45 B\n",
      "e:\\complete machine learning\\Machine_Learning\\Practice\\venv\\Lib\\asyncio\\futures.py:387: size=224 B, count=2, average=112 B\n",
      "e:\\complete machine learning\\Machine_Learning\\Practice\\venv\\Lib\\site-packages\\jupyter_client\\session.py:989: size=222 B, count=4, average=56 B\n",
      "C:\\Users\\gurah\\AppData\\Local\\Temp\\ipykernel_16332\\1917905143.py:0: size=216 B, count=3, average=72 B\n",
      "e:\\complete machine learning\\Machine_Learning\\Practice\\venv\\Lib\\site-packages\\executing\\executing.py:317: size=216 B, count=1, average=216 B\n",
      "e:\\complete machine learning\\Machine_Learning\\Practice\\venv\\Lib\\site-packages\\ipykernel\\ipkernel.py:480: size=208 B, count=1, average=208 B\n",
      "e:\\complete machine learning\\Machine_Learning\\Practice\\venv\\Lib\\site-packages\\executing\\executing.py:169: size=208 B, count=1, average=208 B\n",
      "e:\\complete machine learning\\Machine_Learning\\Practice\\venv\\Lib\\re\\_compiler.py:759: size=208 B, count=1, average=208 B\n",
      "e:\\complete machine learning\\Machine_Learning\\Practice\\venv\\Lib\\asyncio\\futures.py:418: size=200 B, count=5, average=40 B\n",
      "e:\\complete machine learning\\Machine_Learning\\Practice\\venv\\Lib\\site-packages\\IPython\\core\\interactiveshell.py:3375: size=198 B, count=4, average=50 B\n",
      "e:\\complete machine learning\\Machine_Learning\\Practice\\venv\\Lib\\site-packages\\jupyter_client\\session.py:688: size=194 B, count=2, average=97 B\n",
      "e:\\complete machine learning\\Machine_Learning\\Practice\\venv\\Lib\\site-packages\\jupyter_client\\session.py:750: size=192 B, count=2, average=96 B\n",
      "e:\\complete machine learning\\Machine_Learning\\Practice\\venv\\Lib\\site-packages\\IPython\\core\\async_helpers.py:129: size=192 B, count=1, average=192 B\n",
      "e:\\complete machine learning\\Machine_Learning\\Practice\\venv\\Lib\\site-packages\\asttokens\\line_numbers.py:47: size=184 B, count=2, average=92 B\n",
      "e:\\complete machine learning\\Machine_Learning\\Practice\\venv\\Lib\\site-packages\\jupyter_client\\session.py:996: size=176 B, count=4, average=44 B\n",
      "e:\\complete machine learning\\Machine_Learning\\Practice\\venv\\Lib\\site-packages\\IPython\\core\\interactiveshell.py:3503: size=176 B, count=4, average=44 B\n",
      "e:\\complete machine learning\\Machine_Learning\\Practice\\venv\\Lib\\site-packages\\decorator.py:232: size=176 B, count=3, average=59 B\n",
      "e:\\complete machine learning\\Machine_Learning\\Practice\\venv\\Lib\\site-packages\\ipykernel\\kernelbase.py:1182: size=173 B, count=2, average=86 B\n",
      "e:\\complete machine learning\\Machine_Learning\\Practice\\venv\\Lib\\asyncio\\base_events.py:718: size=168 B, count=7, average=24 B\n",
      "e:\\complete machine learning\\Machine_Learning\\Practice\\venv\\Lib\\site-packages\\IPython\\core\\interactiveshell.py:3498: size=168 B, count=3, average=56 B\n",
      "<frozen ntpath>:66: size=163 B, count=2, average=82 B\n",
      "e:\\complete machine learning\\Machine_Learning\\Practice\\venv\\Lib\\site-packages\\zmq\\eventloop\\zmqstream.py:561: size=160 B, count=3, average=53 B\n",
      "e:\\complete machine learning\\Machine_Learning\\Practice\\venv\\Lib\\site-packages\\ipykernel\\kernelbase.py:570: size=160 B, count=1, average=160 B\n",
      "e:\\complete machine learning\\Machine_Learning\\Practice\\venv\\Lib\\site-packages\\asttokens\\line_numbers.py:49: size=160 B, count=1, average=160 B\n",
      "e:\\complete machine learning\\Machine_Learning\\Practice\\venv\\Lib\\asyncio\\futures.py:381: size=160 B, count=1, average=160 B\n",
      "e:\\complete machine learning\\Machine_Learning\\Practice\\venv\\Lib\\site-packages\\jupyter_client\\session.py:200: size=144 B, count=3, average=48 B\n",
      "e:\\complete machine learning\\Machine_Learning\\Practice\\venv\\Lib\\site-packages\\dateutil\\parser\\_parser.py:1195: size=144 B, count=3, average=48 B\n",
      "e:\\complete machine learning\\Machine_Learning\\Practice\\venv\\Lib\\site-packages\\ipykernel\\iostream.py:722: size=144 B, count=2, average=72 B\n",
      "e:\\complete machine learning\\Machine_Learning\\Practice\\venv\\Lib\\site-packages\\executing\\executing.py:286: size=144 B, count=2, average=72 B\n",
      "e:\\complete machine learning\\Machine_Learning\\Practice\\venv\\Lib\\site-packages\\IPython\\core\\completer.py:2147: size=138 B, count=3, average=46 B\n",
      "e:\\complete machine learning\\Machine_Learning\\Practice\\venv\\Lib\\site-packages\\asttokens\\line_numbers.py:32: size=135 B, count=3, average=45 B\n",
      "e:\\complete machine learning\\Machine_Learning\\Practice\\venv\\Lib\\site-packages\\IPython\\core\\displayhook.py:216: size=131 B, count=3, average=44 B\n",
      "e:\\complete machine learning\\Machine_Learning\\Practice\\venv\\Lib\\site-packages\\zmq\\sugar\\socket.py:810: size=128 B, count=2, average=64 B\n",
      "e:\\complete machine learning\\Machine_Learning\\Practice\\venv\\Lib\\site-packages\\jupyter_client\\session.py:1053: size=128 B, count=2, average=64 B\n",
      "e:\\complete machine learning\\Machine_Learning\\Practice\\venv\\Lib\\site-packages\\ipykernel\\kernelbase.py:761: size=128 B, count=2, average=64 B\n",
      "e:\\complete machine learning\\Machine_Learning\\Practice\\venv\\Lib\\site-packages\\ipykernel\\kernelbase.py:721: size=128 B, count=2, average=64 B\n",
      "e:\\complete machine learning\\Machine_Learning\\Practice\\venv\\Lib\\site-packages\\ipykernel\\kernelbase.py:69: size=128 B, count=2, average=64 B\n",
      "e:\\complete machine learning\\Machine_Learning\\Practice\\venv\\Lib\\site-packages\\ipykernel\\ipkernel.py:384: size=128 B, count=2, average=64 B\n",
      "e:\\complete machine learning\\Machine_Learning\\Practice\\venv\\Lib\\site-packages\\ipykernel\\ipkernel.py:383: size=128 B, count=2, average=64 B\n",
      "e:\\complete machine learning\\Machine_Learning\\Practice\\venv\\Lib\\site-packages\\ipykernel\\ipkernel.py:381: size=128 B, count=2, average=64 B\n",
      "e:\\complete machine learning\\Machine_Learning\\Practice\\venv\\Lib\\site-packages\\IPython\\core\\completer.py:3063: size=128 B, count=1, average=128 B\n",
      "e:\\complete machine learning\\Machine_Learning\\Practice\\venv\\Lib\\site-packages\\IPython\\core\\ultratb.py:1197: size=127 B, count=1, average=127 B\n",
      "e:\\complete machine learning\\Machine_Learning\\Practice\\venv\\Lib\\site-packages\\IPython\\core\\ultratb.py:1019: size=127 B, count=1, average=127 B\n",
      "e:\\complete machine learning\\Machine_Learning\\Practice\\venv\\Lib\\threading.py:121: size=120 B, count=2, average=60 B\n",
      "e:\\complete machine learning\\Machine_Learning\\Practice\\venv\\Lib\\site-packages\\traitlets\\traitlets.py:1540: size=120 B, count=2, average=60 B\n",
      "e:\\complete machine learning\\Machine_Learning\\Practice\\venv\\Lib\\site-packages\\ipykernel\\kernelbase.py:318: size=120 B, count=2, average=60 B\n",
      "e:\\complete machine learning\\Machine_Learning\\Practice\\venv\\Lib\\site-packages\\executing\\_position_node_finder.py:75: size=120 B, count=2, average=60 B\n",
      "e:\\complete machine learning\\Machine_Learning\\Practice\\venv\\Lib\\site-packages\\pygments\\lexer.py:662: size=120 B, count=1, average=120 B\n",
      "e:\\complete machine learning\\Machine_Learning\\Practice\\venv\\Lib\\inspect.py:3202: size=120 B, count=1, average=120 B\n",
      "e:\\complete machine learning\\Machine_Learning\\Practice\\venv\\Lib\\inspect.py:2961: size=120 B, count=1, average=120 B\n",
      "C:\\Users\\gurah\\AppData\\Local\\Temp\\ipykernel_16332\\1335920696.py:2: size=120 B, count=1, average=120 B\n",
      "<frozen ntpath>:746: size=119 B, count=1, average=119 B\n",
      "e:\\complete machine learning\\Machine_Learning\\Practice\\venv\\Lib\\site-packages\\IPython\\core\\compilerop.py:172: size=112 B, count=4, average=28 B\n",
      "e:\\complete machine learning\\Machine_Learning\\Practice\\venv\\Lib\\site-packages\\zmq\\sugar\\poll.py:50: size=112 B, count=2, average=56 B\n",
      "e:\\complete machine learning\\Machine_Learning\\Practice\\venv\\Lib\\site-packages\\jupyter_client\\session.py:1088: size=112 B, count=2, average=56 B\n",
      "e:\\complete machine learning\\Machine_Learning\\Practice\\venv\\Lib\\site-packages\\jupyter_client\\session.py:738: size=112 B, count=2, average=56 B\n",
      "e:\\complete machine learning\\Machine_Learning\\Practice\\venv\\Lib\\site-packages\\IPython\\core\\payload.py:54: size=112 B, count=2, average=56 B\n",
      "e:\\complete machine learning\\Machine_Learning\\Practice\\venv\\Lib\\json\\encoder.py:249: size=112 B, count=1, average=112 B\n",
      "e:\\complete machine learning\\Machine_Learning\\Practice\\venv\\Lib\\site-packages\\IPython\\core\\ultratb.py:987: size=111 B, count=1, average=111 B\n",
      "e:\\complete machine learning\\Machine_Learning\\Practice\\venv\\Lib\\inspect.py:2102: size=104 B, count=1, average=104 B\n",
      "e:\\complete machine learning\\Machine_Learning\\Practice\\venv\\Lib\\site-packages\\IPython\\core\\history.py:793: size=96 B, count=2, average=48 B\n",
      "e:\\complete machine learning\\Machine_Learning\\Practice\\venv\\Lib\\site-packages\\IPython\\core\\completer.py:2145: size=96 B, count=2, average=48 B\n",
      "e:\\complete machine learning\\Machine_Learning\\Practice\\venv\\Lib\\warnings.py:189: size=96 B, count=1, average=96 B\n",
      "e:\\complete machine learning\\Machine_Learning\\Practice\\venv\\Lib\\inspect.py:2111: size=96 B, count=1, average=96 B\n",
      "e:\\complete machine learning\\Machine_Learning\\Practice\\venv\\Lib\\site-packages\\IPython\\core\\ultratb.py:1044: size=94 B, count=1, average=94 B\n",
      "e:\\complete machine learning\\Machine_Learning\\Practice\\venv\\Lib\\site-packages\\stack_data\\core.py:101: size=88 B, count=2, average=44 B\n",
      "e:\\complete machine learning\\Machine_Learning\\Practice\\venv\\Lib\\site-packages\\IPython\\core\\displayhook.py:234: size=88 B, count=2, average=44 B\n",
      "e:\\complete machine learning\\Machine_Learning\\Practice\\venv\\Lib\\inspect.py:2489: size=88 B, count=1, average=88 B\n",
      "e:\\complete machine learning\\Machine_Learning\\Practice\\venv\\Lib\\site-packages\\jupyter_client\\session.py:604: size=85 B, count=1, average=85 B\n",
      "e:\\complete machine learning\\Machine_Learning\\Practice\\venv\\Lib\\site-packages\\executing\\executing.py:154: size=82 B, count=2, average=41 B\n",
      "e:\\complete machine learning\\Machine_Learning\\Practice\\venv\\Lib\\warnings.py:163: size=80 B, count=1, average=80 B\n",
      "e:\\complete machine learning\\Machine_Learning\\Practice\\venv\\Lib\\fnmatch.py:46: size=80 B, count=1, average=80 B\n",
      "e:\\complete machine learning\\Machine_Learning\\Practice\\venv\\Lib\\dis.py:190: size=75 B, count=2, average=38 B\n",
      "e:\\complete machine learning\\Machine_Learning\\Practice\\venv\\Lib\\tracemalloc.py:551: size=72 B, count=1, average=72 B\n",
      "e:\\complete machine learning\\Machine_Learning\\Practice\\venv\\Lib\\tracemalloc.py:528: size=72 B, count=1, average=72 B\n",
      "e:\\complete machine learning\\Machine_Learning\\Practice\\venv\\Lib\\tracemalloc.py:477: size=72 B, count=1, average=72 B\n",
      "e:\\complete machine learning\\Machine_Learning\\Practice\\venv\\Lib\\tracemalloc.py:420: size=72 B, count=1, average=72 B\n",
      "e:\\complete machine learning\\Machine_Learning\\Practice\\venv\\Lib\\tracemalloc.py:312: size=72 B, count=1, average=72 B\n",
      "e:\\complete machine learning\\Machine_Learning\\Practice\\venv\\Lib\\tracemalloc.py:225: size=72 B, count=1, average=72 B\n",
      "e:\\complete machine learning\\Machine_Learning\\Practice\\venv\\Lib\\tracemalloc.py:220: size=72 B, count=1, average=72 B\n",
      "e:\\complete machine learning\\Machine_Learning\\Practice\\venv\\Lib\\tracemalloc.py:215: size=72 B, count=1, average=72 B\n",
      "e:\\complete machine learning\\Machine_Learning\\Practice\\venv\\Lib\\tracemalloc.py:212: size=72 B, count=1, average=72 B\n",
      "e:\\complete machine learning\\Machine_Learning\\Practice\\venv\\Lib\\tracemalloc.py:203: size=72 B, count=1, average=72 B\n",
      "e:\\complete machine learning\\Machine_Learning\\Practice\\venv\\Lib\\tracemalloc.py:187: size=72 B, count=1, average=72 B\n",
      "e:\\complete machine learning\\Machine_Learning\\Practice\\venv\\Lib\\tracemalloc.py:172: size=72 B, count=1, average=72 B\n",
      "e:\\complete machine learning\\Machine_Learning\\Practice\\venv\\Lib\\tracemalloc.py:155: size=72 B, count=1, average=72 B\n",
      "e:\\complete machine learning\\Machine_Learning\\Practice\\venv\\Lib\\tracemalloc.py:151: size=72 B, count=1, average=72 B\n",
      "e:\\complete machine learning\\Machine_Learning\\Practice\\venv\\Lib\\tracemalloc.py:147: size=72 B, count=1, average=72 B\n",
      "e:\\complete machine learning\\Machine_Learning\\Practice\\venv\\Lib\\tracemalloc.py:66: size=72 B, count=1, average=72 B\n",
      "e:\\complete machine learning\\Machine_Learning\\Practice\\venv\\Lib\\tracemalloc.py:52: size=72 B, count=1, average=72 B\n",
      "e:\\complete machine learning\\Machine_Learning\\Practice\\venv\\Lib\\tracemalloc.py:37: size=72 B, count=1, average=72 B\n",
      "e:\\complete machine learning\\Machine_Learning\\Practice\\venv\\Lib\\tracemalloc.py:13: size=72 B, count=1, average=72 B\n",
      "e:\\complete machine learning\\Machine_Learning\\Practice\\venv\\Lib\\threading.py:271: size=72 B, count=1, average=72 B\n",
      "e:\\complete machine learning\\Machine_Learning\\Practice\\venv\\Lib\\threading.py:267: size=72 B, count=1, average=72 B\n",
      "e:\\complete machine learning\\Machine_Learning\\Practice\\venv\\Lib\\threading.py:262: size=72 B, count=1, average=72 B\n",
      "e:\\complete machine learning\\Machine_Learning\\Practice\\venv\\Lib\\threading.py:261: size=72 B, count=1, average=72 B\n",
      "e:\\complete machine learning\\Machine_Learning\\Practice\\venv\\Lib\\site-packages\\executing\\executing.py:156: size=72 B, count=1, average=72 B\n",
      "e:\\complete machine learning\\Machine_Learning\\Practice\\venv\\Lib\\site-packages\\IPython\\core\\history.py:851: size=72 B, count=1, average=72 B\n",
      "e:\\complete machine learning\\Machine_Learning\\Practice\\venv\\Lib\\site-packages\\IPython\\core\\history.py:834: size=72 B, count=1, average=72 B\n",
      "C:\\Users\\gurah\\AppData\\Local\\Temp\\ipykernel_16332\\451043146.py:0: size=72 B, count=1, average=72 B\n",
      "e:\\complete machine learning\\Machine_Learning\\Practice\\venv\\Lib\\inspect.py:1335: size=64 B, count=2, average=32 B\n",
      "e:\\complete machine learning\\Machine_Learning\\Practice\\venv\\Lib\\asyncio\\base_events.py:1935: size=64 B, count=2, average=32 B\n",
      "e:\\complete machine learning\\Machine_Learning\\Practice\\venv\\Lib\\site-packages\\zmq\\eventloop\\zmqstream.py:640: size=64 B, count=1, average=64 B\n",
      "e:\\complete machine learning\\Machine_Learning\\Practice\\venv\\Lib\\site-packages\\stack_data\\utils.py:145: size=64 B, count=1, average=64 B\n",
      "e:\\complete machine learning\\Machine_Learning\\Practice\\venv\\Lib\\site-packages\\jupyter_client\\session.py:663: size=64 B, count=1, average=64 B\n",
      "e:\\complete machine learning\\Machine_Learning\\Practice\\venv\\Lib\\site-packages\\ipykernel\\kernelbase.py:563: size=64 B, count=1, average=64 B\n",
      "e:\\complete machine learning\\Machine_Learning\\Practice\\venv\\Lib\\site-packages\\ipykernel\\ipkernel.py:494: size=64 B, count=1, average=64 B\n",
      "e:\\complete machine learning\\Machine_Learning\\Practice\\venv\\Lib\\site-packages\\ipykernel\\ipkernel.py:476: size=64 B, count=1, average=64 B\n",
      "e:\\complete machine learning\\Machine_Learning\\Practice\\venv\\Lib\\site-packages\\ipykernel\\ipkernel.py:294: size=64 B, count=1, average=64 B\n",
      "e:\\complete machine learning\\Machine_Learning\\Practice\\venv\\Lib\\site-packages\\ipykernel\\ipkernel.py:291: size=64 B, count=1, average=64 B\n",
      "e:\\complete machine learning\\Machine_Learning\\Practice\\venv\\Lib\\site-packages\\IPython\\core\\ultratb.py:1225: size=64 B, count=1, average=64 B\n",
      "e:\\complete machine learning\\Machine_Learning\\Practice\\venv\\Lib\\site-packages\\IPython\\core\\interactiveshell.py:3566: size=64 B, count=1, average=64 B\n",
      "e:\\complete machine learning\\Machine_Learning\\Practice\\venv\\Lib\\site-packages\\IPython\\core\\interactiveshell.py:3515: size=64 B, count=1, average=64 B\n",
      "e:\\complete machine learning\\Machine_Learning\\Practice\\venv\\Lib\\site-packages\\IPython\\core\\interactiveshell.py:3303: size=64 B, count=1, average=64 B\n",
      "e:\\complete machine learning\\Machine_Learning\\Practice\\venv\\Lib\\site-packages\\IPython\\core\\interactiveshell.py:3300: size=64 B, count=1, average=64 B\n",
      "e:\\complete machine learning\\Machine_Learning\\Practice\\venv\\Lib\\re\\__init__.py:289: size=64 B, count=1, average=64 B\n",
      "e:\\complete machine learning\\Machine_Learning\\Practice\\venv\\Lib\\asyncio\\futures.py:405: size=64 B, count=1, average=64 B\n",
      "e:\\complete machine learning\\Machine_Learning\\Practice\\venv\\Lib\\asyncio\\base_events.py:758: size=64 B, count=1, average=64 B\n",
      "e:\\complete machine learning\\Machine_Learning\\Practice\\venv\\Lib\\warnings.py:486: size=56 B, count=1, average=56 B\n",
      "e:\\complete machine learning\\Machine_Learning\\Practice\\venv\\Lib\\tracemalloc.py:558: size=56 B, count=1, average=56 B\n",
      "e:\\complete machine learning\\Machine_Learning\\Practice\\venv\\Lib\\site-packages\\traitlets\\traitlets.py:1534: size=56 B, count=1, average=56 B\n",
      "e:\\complete machine learning\\Machine_Learning\\Practice\\venv\\Lib\\site-packages\\executing\\_position_node_finder.py:117: size=56 B, count=1, average=56 B\n",
      "e:\\complete machine learning\\Machine_Learning\\Practice\\venv\\Lib\\site-packages\\IPython\\core\\interactiveshell.py:3483: size=56 B, count=1, average=56 B\n",
      "e:\\complete machine learning\\Machine_Learning\\Practice\\venv\\Lib\\site-packages\\IPython\\core\\history.py:866: size=56 B, count=1, average=56 B\n",
      "e:\\complete machine learning\\Machine_Learning\\Practice\\venv\\Lib\\site-packages\\IPython\\core\\completer.py:3062: size=56 B, count=1, average=56 B\n",
      "e:\\complete machine learning\\Machine_Learning\\Practice\\venv\\Lib\\selectors.py:323: size=56 B, count=1, average=56 B\n",
      "e:\\complete machine learning\\Machine_Learning\\Practice\\venv\\Lib\\selectors.py:321: size=56 B, count=1, average=56 B\n",
      "e:\\complete machine learning\\Machine_Learning\\Practice\\venv\\Lib\\inspect.py:2903: size=56 B, count=1, average=56 B\n",
      "e:\\complete machine learning\\Machine_Learning\\Practice\\venv\\Lib\\concurrent\\futures\\_base.py:335: size=56 B, count=1, average=56 B\n",
      "e:\\complete machine learning\\Machine_Learning\\Practice\\venv\\Lib\\concurrent\\futures\\_base.py:334: size=56 B, count=1, average=56 B\n",
      "e:\\complete machine learning\\Machine_Learning\\Practice\\venv\\Lib\\asyncio\\futures.py:403: size=56 B, count=1, average=56 B\n",
      "C:\\Users\\gurah\\AppData\\Local\\Temp\\ipykernel_16332\\2259802814.py:2: size=56 B, count=1, average=56 B\n",
      "e:\\complete machine learning\\Machine_Learning\\Practice\\venv\\Lib\\fnmatch.py:185: size=52 B, count=1, average=52 B\n",
      "e:\\complete machine learning\\Machine_Learning\\Practice\\venv\\Lib\\ast.py:405: size=51 B, count=1, average=51 B\n",
      "e:\\complete machine learning\\Machine_Learning\\Practice\\venv\\Lib\\site-packages\\ipykernel\\ipkernel.py:470: size=50 B, count=1, average=50 B\n",
      "e:\\complete machine learning\\Machine_Learning\\Practice\\venv\\Lib\\site-packages\\tornado\\concurrent.py:193: size=48 B, count=1, average=48 B\n",
      "e:\\complete machine learning\\Machine_Learning\\Practice\\venv\\Lib\\site-packages\\stack_data\\core.py:153: size=48 B, count=1, average=48 B\n",
      "e:\\complete machine learning\\Machine_Learning\\Practice\\venv\\Lib\\site-packages\\IPython\\core\\interactiveshell.py:3505: size=48 B, count=1, average=48 B\n",
      "e:\\complete machine learning\\Machine_Learning\\Practice\\venv\\Lib\\site-packages\\IPython\\core\\history.py:835: size=48 B, count=1, average=48 B\n",
      "e:\\complete machine learning\\Machine_Learning\\Practice\\venv\\Lib\\concurrent\\futures\\_base.py:330: size=48 B, count=1, average=48 B\n",
      "e:\\complete machine learning\\Machine_Learning\\Practice\\venv\\Lib\\site-packages\\IPython\\core\\prefilter.py:317: size=47 B, count=1, average=47 B\n",
      "e:\\complete machine learning\\Machine_Learning\\Practice\\venv\\Lib\\dis.py:389: size=45 B, count=1, average=45 B\n",
      "e:\\complete machine learning\\Machine_Learning\\Practice\\venv\\Lib\\site-packages\\IPython\\core\\formatters.py:713: size=43 B, count=1, average=43 B\n",
      "e:\\complete machine learning\\Machine_Learning\\Practice\\venv\\Lib\\site-packages\\jupyter_client\\session.py:603: size=32 B, count=1, average=32 B\n",
      "e:\\complete machine learning\\Machine_Learning\\Practice\\venv\\Lib\\site-packages\\ipykernel\\iostream.py:637: size=32 B, count=1, average=32 B\n",
      "e:\\complete machine learning\\Machine_Learning\\Practice\\venv\\Lib\\site-packages\\ipykernel\\iostream.py:168: size=32 B, count=1, average=32 B\n",
      "e:\\complete machine learning\\Machine_Learning\\Practice\\venv\\Lib\\site-packages\\IPython\\core\\completer.py:2813: size=32 B, count=1, average=32 B\n",
      "e:\\complete machine learning\\Machine_Learning\\Practice\\venv\\Lib\\site-packages\\IPython\\core\\completer.py:881: size=32 B, count=1, average=32 B\n",
      "e:\\complete machine learning\\Machine_Learning\\Practice\\venv\\Lib\\site-packages\\IPython\\core\\compilerop.py:192: size=32 B, count=1, average=32 B\n",
      "e:\\complete machine learning\\Machine_Learning\\Practice\\venv\\Lib\\concurrent\\futures\\_base.py:421: size=32 B, count=1, average=32 B\n",
      "e:\\complete machine learning\\Machine_Learning\\Practice\\venv\\Lib\\logging\\__init__.py:344: size=24 B, count=1, average=24 B\n",
      "e:\\complete machine learning\\Machine_Learning\\Practice\\venv\\Lib\\logging\\__init__.py:303: size=24 B, count=1, average=24 B\n"
     ]
    }
   ],
   "source": [
    "main()"
   ]
  },
  {
   "cell_type": "code",
   "execution_count": null,
   "metadata": {},
   "outputs": [],
   "source": []
  }
 ],
 "metadata": {
  "kernelspec": {
   "display_name": "Python 3",
   "language": "python",
   "name": "python3"
  },
  "language_info": {
   "codemirror_mode": {
    "name": "ipython",
    "version": 3
   },
   "file_extension": ".py",
   "mimetype": "text/x-python",
   "name": "python",
   "nbconvert_exporter": "python",
   "pygments_lexer": "ipython3",
   "version": "3.12.0"
  }
 },
 "nbformat": 4,
 "nbformat_minor": 2
}
