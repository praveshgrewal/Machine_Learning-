{
 "cells": [
  {
   "cell_type": "code",
   "execution_count": null,
   "metadata": {},
   "outputs": [],
   "source": [
    "## multithreading\n",
    "#when to use multithreading\n",
    "#I\\O bound task: tasks that spend more time writing and reading for I/O operations(e,g file operations)\n",
    "#concurrent execution : when your want to improve the throughput of your application by performing multiple opertaions concurrently\n"
   ]
  },
  {
   "cell_type": "code",
   "execution_count": 3,
   "metadata": {},
   "outputs": [],
   "source": [
    "import threading\n",
    "import time\n"
   ]
  },
  {
   "cell_type": "code",
   "execution_count": 13,
   "metadata": {},
   "outputs": [
    {
     "name": "stdout",
     "output_type": "stream",
     "text": [
      "number:0\n",
      "letter: a\n",
      "number:1\n",
      "number:2\n",
      "letter: b\n",
      "number:3\n",
      "number:4\n",
      "letter: c\n",
      "letter: d\n",
      "letter: e\n",
      "10.004402160644531\n"
     ]
    }
   ],
   "source": [
    "def print_number():\n",
    "    for i in range(5):\n",
    "        time.sleep(1)\n",
    "        print(f\"number:{i}\")\n",
    "\n",
    "def print_letter():\n",
    "    for i in \"abcde\":\n",
    "        time.sleep(2)\n",
    "        print(f\"letter: {i}\")\n",
    "\n",
    "\n",
    "#create 2 threads\n",
    "t1 = threading.Thread(target=print_number)\n",
    "t2 = threading.Thread(target=print_letter)\n",
    "\n",
    "#start time\n",
    "t=time.time()\n",
    "#start threads\n",
    "t1.start()\n",
    "t2.start()\n",
    "\n",
    "#wait for threads to finish\n",
    "t1.join()\n",
    "t2.join()\n",
    "#end time\n",
    "end_time= time.time()-t\n",
    "print(end_time)\n",
    "\n",
    "\n"
   ]
  },
  {
   "cell_type": "code",
   "execution_count": null,
   "metadata": {},
   "outputs": [],
   "source": []
  }
 ],
 "metadata": {
  "kernelspec": {
   "display_name": "Python 3",
   "language": "python",
   "name": "python3"
  },
  "language_info": {
   "codemirror_mode": {
    "name": "ipython",
    "version": 3
   },
   "file_extension": ".py",
   "mimetype": "text/x-python",
   "name": "python",
   "nbconvert_exporter": "python",
   "pygments_lexer": "ipython3",
   "version": "3.12.0"
  }
 },
 "nbformat": 4,
 "nbformat_minor": 2
}
