{
 "cells": [
  {
   "cell_type": "markdown",
   "metadata": {},
   "source": [
    "## What is process and threat\n",
    "## Program\n",
    "a program is a sequence of instraction written in programming language.\n",
    "example:\n",
    "google chrome . when we will open chrome it will execute a program or we can say google chrome is a program with some intractions"
   ]
  },
  {
   "cell_type": "markdown",
   "metadata": {},
   "source": [
    "## Process\n",
    "a process is simple an instance of a program that is being executed.\n",
    "## stack(it has access of all local variables).\n",
    "## registers(space of memory when we required temporaary memory it will store in registers)\n",
    "# seprate memory space\n",
    "when i will open google chrome  it will be allocating a seprate memory space for our chrome browser\n",
    "one process cannot corrupt another process because we have seprate memory space\n",
    "when we will swiitch brower we need I/O requirment\n",
    "here we have a disadvantage of seprate memory space its increase execution time to swithc btw process from \n",
    "one process to another process\n",
    "example(browser, excel sheet)\n",
    "every process will have its own ID when we probably launch this will launch the particular instance\n",
    "similarly\n",
    "any file or any installation that you have done with the respect of the app \n",
    "\n",
    "\n",
    "-excelfile-->process ID\n",
    "\n",
    "-app--->process \n"
   ]
  },
  {
   "cell_type": "code",
   "execution_count": null,
   "metadata": {},
   "outputs": [],
   "source": [
    "\n"
   ]
  }
 ],
 "metadata": {
  "kernelspec": {
   "display_name": "Python 3",
   "language": "python",
   "name": "python3"
  },
  "language_info": {
   "codemirror_mode": {
    "name": "ipython",
    "version": 3
   },
   "file_extension": ".py",
   "mimetype": "text/x-python",
   "name": "python",
   "nbconvert_exporter": "python",
   "pygments_lexer": "ipython3",
   "version": "3.12.0"
  }
 },
 "nbformat": 4,
 "nbformat_minor": 2
}
