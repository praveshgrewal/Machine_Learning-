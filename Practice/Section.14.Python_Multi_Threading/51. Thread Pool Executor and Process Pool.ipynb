{
 "cells": [
  {
   "cell_type": "code",
   "execution_count": 1,
   "metadata": {},
   "outputs": [],
   "source": [
    "# multithreading with thread pool executor\n",
    "\n",
    "# from concurrent.futures import ThreadPoolExecutor\n",
    "# import time"
   ]
  },
  {
   "cell_type": "code",
   "execution_count": 2,
   "metadata": {},
   "outputs": [],
   "source": [
    "# def print_number(number):\n",
    "   \n",
    "#     time.sleep(1)\n",
    "#     return f\"Number : {number}\"\n",
    "\n",
    "# number = [1, 2, 3, 4, 5, 6, 7, 8, 9, 10]\n",
    "\n",
    "# with ThreadPoolExecutor(max_workers=5) as executor:\n",
    "#     results = executor.map(print_number, number)\n",
    "#     for result in results:\n",
    "#         print(result)"
   ]
  },
  {
   "cell_type": "code",
   "execution_count": 3,
   "metadata": {},
   "outputs": [],
   "source": [
    "#multithreading with process pool executor\n",
    "\n"
   ]
  },
  {
   "cell_type": "code",
   "execution_count": 4,
   "metadata": {},
   "outputs": [
    {
     "name": "stdout",
     "output_type": "stream",
     "text": [
      "An error occurred: A process in the process pool was terminated abruptly while the future was running or pending.\n"
     ]
    }
   ],
   "source": [
    "from concurrent.futures import ProcessPoolExecutor\n",
    "import time\n",
    "\n",
    "def square_number(number):\n",
    "    try:\n",
    "        time.sleep(1)\n",
    "        return f\"Square: {number * number}\"\n",
    "    except Exception as e:\n",
    "        return f\"Error processing number {number}: {e}\"\n",
    "\n",
    "numbers = [1, 2, 3, 4, 5, 6, 7, 8, 9, 10]\n",
    "if __name__ == \"__main__\":\n",
    "    with ProcessPoolExecutor(max_workers=5) as executor:\n",
    "        try:\n",
    "            results = executor.map(square_number, numbers)\n",
    "            for result in results:\n",
    "                print(result)\n",
    "        except Exception as e:\n",
    "            print(f\"An error occurred: {e}\")\n"
   ]
  },
  {
   "cell_type": "code",
   "execution_count": null,
   "metadata": {},
   "outputs": [],
   "source": []
  }
 ],
 "metadata": {
  "kernelspec": {
   "display_name": "Python 3",
   "language": "python",
   "name": "python3"
  },
  "language_info": {
   "codemirror_mode": {
    "name": "ipython",
    "version": 3
   },
   "file_extension": ".py",
   "mimetype": "text/x-python",
   "name": "python",
   "nbconvert_exporter": "python",
   "pygments_lexer": "ipython3",
   "version": "3.12.0"
  }
 },
 "nbformat": 4,
 "nbformat_minor": 2
}
