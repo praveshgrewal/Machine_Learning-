{
 "cells": [
  {
   "cell_type": "code",
   "execution_count": null,
   "metadata": {},
   "outputs": [],
   "source": [
    "#it allow to create process that run in parallel\n",
    "#cPu- Bound Tasks \n",
    "#parller execution - multi core of cpu"
   ]
  },
  {
   "cell_type": "code",
   "execution_count": 7,
   "metadata": {},
   "outputs": [
    {
     "name": "stdout",
     "output_type": "stream",
     "text": [
      "0.06200695037841797\n"
     ]
    }
   ],
   "source": [
    "import multiprocessing\n",
    "import time\n",
    "\n",
    "def square(numbers):\n",
    "    for i in range(5):\n",
    "        time.sleep(1)\n",
    "        print(f\"'square:', {i*i}\")\n",
    "\n",
    "def cube(numbers):\n",
    "    for i in range(5):\n",
    "        time.sleep(1.5)\n",
    "        print(f\"'cube:', {i*i*i}\")\n",
    "\n",
    "if __name__ == \"__main__\":\n",
    "    p1 = multiprocessing.Process(target=square, args=([],))\n",
    "    p2 = multiprocessing.Process(target=cube, args=([],))\n",
    "    t = time.time()\n",
    "\n",
    "    p1.start()\n",
    "    p2.start()\n",
    "\n",
    "    p1.join()\n",
    "    p2.join()\n",
    "\n",
    "    print(time.time() - t)\n"
   ]
  }
 ],
 "metadata": {
  "kernelspec": {
   "display_name": "Python 3",
   "language": "python",
   "name": "python3"
  },
  "language_info": {
   "codemirror_mode": {
    "name": "ipython",
    "version": 3
   },
   "file_extension": ".py",
   "mimetype": "text/x-python",
   "name": "python",
   "nbconvert_exporter": "python",
   "pygments_lexer": "ipython3",
   "version": "3.12.0"
  }
 },
 "nbformat": 4,
 "nbformat_minor": 2
}
