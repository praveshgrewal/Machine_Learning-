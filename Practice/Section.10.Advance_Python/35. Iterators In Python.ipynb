{
 "cells": [
  {
   "cell_type": "markdown",
   "metadata": {},
   "source": [
    "## iterators\n",
    "are advanced python concepts that allow for efficient loopig and memory managment. iterators provide a way to access elements of a collection sequentially without exposing the underlying structure"
   ]
  },
  {
   "cell_type": "code",
   "execution_count": 1,
   "metadata": {},
   "outputs": [
    {
     "name": "stdout",
     "output_type": "stream",
     "text": [
      "1\n",
      "2\n",
      "3\n"
     ]
    }
   ],
   "source": [
    "my_list=[1,2,3]\n",
    "for i in my_list:\n",
    "    print(i)"
   ]
  },
  {
   "cell_type": "code",
   "execution_count": 31,
   "metadata": {},
   "outputs": [
    {
     "name": "stdout",
     "output_type": "stream",
     "text": [
      "<list_iterator object at 0x00000202E1694250>\n"
     ]
    }
   ],
   "source": [
    "#iterator \n",
    "#its using lazy loaded technique\n",
    "\n",
    "new_list= [1,2,3,4,5,6,7,8,9,10]\n",
    "\n",
    "new_iterator=iter(new_list)\n",
    "\n",
    "print(new_iterator)\n"
   ]
  },
  {
   "cell_type": "code",
   "execution_count": 42,
   "metadata": {},
   "outputs": [
    {
     "name": "stdout",
     "output_type": "stream",
     "text": [
      "No more elements\n"
     ]
    }
   ],
   "source": [
    "#iterate through all the elements\n",
    "try:\n",
    "    print(next(new_iterator))\n",
    "except StopIteration:\n",
    "    print(\"No more elements\")\n"
   ]
  },
  {
   "cell_type": "code",
   "execution_count": 43,
   "metadata": {},
   "outputs": [
    {
     "name": "stdout",
     "output_type": "stream",
     "text": [
      "<str_ascii_iterator object at 0x00000202E16975E0>\n"
     ]
    }
   ],
   "source": [
    "#string iterator\n",
    "string=\"Hello World\"\n",
    "\n",
    "string_iterator=iter(string)\n",
    "\n",
    "print(string_iterator) \n",
    "print(next(string_iterator)) \n"
   ]
  },
  {
   "cell_type": "code",
   "execution_count": 56,
   "metadata": {},
   "outputs": [
    {
     "name": "stdout",
     "output_type": "stream",
     "text": [
      "No more elements\n"
     ]
    }
   ],
   "source": [
    "try:\n",
    "    print(next(string_iterator))\n",
    "except StopIteration:\n",
    "    print(\"No more elements\")"
   ]
  },
  {
   "cell_type": "code",
   "execution_count": null,
   "metadata": {},
   "outputs": [],
   "source": []
  }
 ],
 "metadata": {
  "kernelspec": {
   "display_name": "Python 3",
   "language": "python",
   "name": "python3"
  },
  "language_info": {
   "codemirror_mode": {
    "name": "ipython",
    "version": 3
   },
   "file_extension": ".py",
   "mimetype": "text/x-python",
   "name": "python",
   "nbconvert_exporter": "python",
   "pygments_lexer": "ipython3",
   "version": "3.12.0"
  }
 },
 "nbformat": 4,
 "nbformat_minor": 2
}
