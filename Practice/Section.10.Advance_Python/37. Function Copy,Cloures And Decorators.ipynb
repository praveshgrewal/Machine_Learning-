{
 "cells": [
  {
   "cell_type": "markdown",
   "metadata": {},
   "source": [
    "## Decorators\n",
    "are a powerful and flexible feature in python that allows you to modify the behaviour of a function or class method. they are commonly used to add funtionality to functions or methods without modifying their actual code. "
   ]
  },
  {
   "cell_type": "code",
   "execution_count": 32,
   "metadata": {},
   "outputs": [
    {
     "data": {
      "text/plain": [
       "'welcome'"
      ]
     },
     "execution_count": 32,
     "metadata": {},
     "output_type": "execute_result"
    }
   ],
   "source": [
    "## function copy\n",
    "def welcome():\n",
    "    return \"welcome\"\n",
    "\n",
    "welcome()\n"
   ]
  },
  {
   "cell_type": "code",
   "execution_count": 33,
   "metadata": {},
   "outputs": [
    {
     "data": {
      "text/plain": [
       "'welcome'"
      ]
     },
     "execution_count": 33,
     "metadata": {},
     "output_type": "execute_result"
    }
   ],
   "source": [
    "wel = welcome\n",
    "wel()"
   ]
  },
  {
   "cell_type": "code",
   "execution_count": 34,
   "metadata": {},
   "outputs": [],
   "source": [
    "del welcome"
   ]
  },
  {
   "cell_type": "code",
   "execution_count": 35,
   "metadata": {},
   "outputs": [
    {
     "data": {
      "text/plain": [
       "'welcome'"
      ]
     },
     "execution_count": 35,
     "metadata": {},
     "output_type": "execute_result"
    }
   ],
   "source": [
    "wel()"
   ]
  },
  {
   "cell_type": "code",
   "execution_count": 36,
   "metadata": {},
   "outputs": [],
   "source": [
    "#cloures\n",
    "def main_welcome(msg):\n",
    "   \n",
    "    def sub_welcome():\n",
    "        print(\"welcome in advance python\")\n",
    "        print(msg)\n",
    "        print(\"please learn\")\n",
    "\n",
    "    return sub_welcome()"
   ]
  },
  {
   "cell_type": "code",
   "execution_count": 37,
   "metadata": {},
   "outputs": [
    {
     "name": "stdout",
     "output_type": "stream",
     "text": [
      "welcome in advance python\n",
      "welcome in python\n",
      "please learn\n"
     ]
    }
   ],
   "source": [
    "main_welcome(\"welcome in python\")"
   ]
  },
  {
   "cell_type": "code",
   "execution_count": 38,
   "metadata": {},
   "outputs": [],
   "source": [
    "def main_welcome(func):\n",
    "   \n",
    "    def sub_welcome():\n",
    "        print(\"welcome in advance python\")\n",
    "        func(\"i love python\")\n",
    "        print(\"please learn\")\n",
    "\n",
    "    return sub_welcome()"
   ]
  },
  {
   "cell_type": "code",
   "execution_count": 39,
   "metadata": {},
   "outputs": [
    {
     "name": "stdout",
     "output_type": "stream",
     "text": [
      "welcome in advance python\n",
      "i love python\n",
      "please learn\n"
     ]
    }
   ],
   "source": [
    "main_welcome(print)"
   ]
  },
  {
   "cell_type": "code",
   "execution_count": 40,
   "metadata": {},
   "outputs": [
    {
     "name": "stdout",
     "output_type": "stream",
     "text": [
      "welcome in advance python\n",
      "6\n",
      "please learn\n"
     ]
    }
   ],
   "source": [
    "def main_welcome(func,lst):\n",
    "   \n",
    "    def sub_welcome():\n",
    "        print(\"welcome in advance python\")\n",
    "        print(func(lst))\n",
    "        print(\"please learn\")\n",
    "\n",
    "    return sub_welcome()\n",
    "\n",
    "\n",
    "main_welcome(len,[1,2,3,4,5,6])"
   ]
  },
  {
   "cell_type": "code",
   "execution_count": 41,
   "metadata": {},
   "outputs": [],
   "source": [
    "#decorator\n",
    "\n",
    "def main_welcome(func):\n",
    "   \n",
    "    def sub_welcome():\n",
    "        print(\"welcome in advance python\")\n",
    "        func()\n",
    "        print(\"please learn\")\n",
    "\n",
    "    return sub_welcome()\n"
   ]
  },
  {
   "cell_type": "code",
   "execution_count": 42,
   "metadata": {},
   "outputs": [
    {
     "name": "stdout",
     "output_type": "stream",
     "text": [
      "aa ja\n"
     ]
    }
   ],
   "source": [
    "def course():\n",
    "    print(\"aa ja\")\n",
    "\n",
    "course()\n",
    "\n"
   ]
  },
  {
   "cell_type": "code",
   "execution_count": 43,
   "metadata": {},
   "outputs": [
    {
     "name": "stdout",
     "output_type": "stream",
     "text": [
      "welcome in advance python\n",
      "aa ja\n",
      "please learn\n"
     ]
    }
   ],
   "source": [
    "main_welcome(course)"
   ]
  },
  {
   "cell_type": "code",
   "execution_count": 44,
   "metadata": {},
   "outputs": [
    {
     "name": "stdout",
     "output_type": "stream",
     "text": [
      "welcome in advance python\n",
      "aa ja\n",
      "please learn\n"
     ]
    }
   ],
   "source": [
    "@main_welcome\n",
    "def course():\n",
    "    print(\"aa ja\")\n",
    "\n"
   ]
  },
  {
   "cell_type": "code",
   "execution_count": 45,
   "metadata": {},
   "outputs": [],
   "source": [
    "#decorator\n",
    "def my_decorator(func):\n",
    "    def wrapper():\n",
    "        print(\"before\")\n",
    "        func()\n",
    "        print(\"after\")\n",
    "    return wrapper\n",
    "\n",
    "\n"
   ]
  },
  {
   "cell_type": "code",
   "execution_count": 46,
   "metadata": {},
   "outputs": [],
   "source": [
    "@my_decorator\n",
    "def say_hi():\n",
    "    print(\"hi\")"
   ]
  },
  {
   "cell_type": "code",
   "execution_count": 47,
   "metadata": {},
   "outputs": [
    {
     "name": "stdout",
     "output_type": "stream",
     "text": [
      "before\n",
      "hi\n",
      "after\n"
     ]
    }
   ],
   "source": [
    "say_hi()"
   ]
  },
  {
   "cell_type": "code",
   "execution_count": 48,
   "metadata": {},
   "outputs": [],
   "source": [
    "#decorator with arguments\n",
    "def repeat(n):\n",
    "    def my_decorator(func):\n",
    "        def wrapper(*args, **kwargs):\n",
    "            for _ in range(n):\n",
    "                func(*args, **kwargs)\n",
    "        return wrapper\n",
    "    return my_decorator"
   ]
  },
  {
   "cell_type": "code",
   "execution_count": 49,
   "metadata": {},
   "outputs": [
    {
     "name": "stdout",
     "output_type": "stream",
     "text": [
      "hello\n",
      "hello\n",
      "hello\n"
     ]
    }
   ],
   "source": [
    "@repeat(3)\n",
    "def say_hello():\n",
    "    print(\"hello\")\n",
    "say_hello()"
   ]
  },
  {
   "cell_type": "code",
   "execution_count": null,
   "metadata": {},
   "outputs": [],
   "source": []
  }
 ],
 "metadata": {
  "kernelspec": {
   "display_name": "Python 3",
   "language": "python",
   "name": "python3"
  },
  "language_info": {
   "codemirror_mode": {
    "name": "ipython",
    "version": 3
   },
   "file_extension": ".py",
   "mimetype": "text/x-python",
   "name": "python",
   "nbconvert_exporter": "python",
   "pygments_lexer": "ipython3",
   "version": "3.12.0"
  }
 },
 "nbformat": 4,
 "nbformat_minor": 2
}
