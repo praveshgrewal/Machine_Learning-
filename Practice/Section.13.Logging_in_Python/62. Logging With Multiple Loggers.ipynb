{
 "cells": [
  {
   "cell_type": "markdown",
   "metadata": {},
   "source": [
    "## Logging with multiple loggers\n",
    "we can create multiple loggers for different parts of your appplication"
   ]
  },
  {
   "cell_type": "code",
   "execution_count": 1,
   "metadata": {},
   "outputs": [],
   "source": [
    "import logging\n",
    "#create a logger for module one\n",
    "logger_one = logging.getLogger('module_one')\n",
    "logger_one.setLevel(logging.DEBUG)\n",
    "#create a logger for module two\n",
    "logger_two = logging.getLogger('module_two')\n",
    "logger_two.setLevel(logging.WARNING)\n",
    "\n",
    "#configure loggin setting\n",
    "logging.basicConfig(\n",
    "    level=logging.DEBUG,\n",
    "    \n",
    "    format='%(asctime)s-%(name)s-%(levelname)s-%(message)s',\n",
    "    datefmt='%Y-%m-%d %H:%M:%S'\n",
    ")"
   ]
  },
  {
   "cell_type": "code",
   "execution_count": 2,
   "metadata": {},
   "outputs": [
    {
     "name": "stderr",
     "output_type": "stream",
     "text": [
      "2024-06-27 14:52:44-module_one-DEBUG-this is a debug for module one\n",
      "2024-06-27 14:52:44-module_two-WARNING-this is a warning for module two\n",
      "2024-06-27 14:52:44-module_two-ERROR-this is an error for module two\n"
     ]
    }
   ],
   "source": [
    "##log messege with multiple loggers\n",
    "logger_one.debug('this is a debug for module one')\n",
    "logger_two.warning('this is a warning for module two')\n",
    "logger_two.error('this is an error for module two')"
   ]
  },
  {
   "cell_type": "code",
   "execution_count": null,
   "metadata": {},
   "outputs": [],
   "source": []
  },
  {
   "cell_type": "code",
   "execution_count": null,
   "metadata": {},
   "outputs": [],
   "source": []
  }
 ],
 "metadata": {
  "kernelspec": {
   "display_name": "Python 3",
   "language": "python",
   "name": "python3"
  },
  "language_info": {
   "codemirror_mode": {
    "name": "ipython",
    "version": 3
   },
   "file_extension": ".py",
   "mimetype": "text/x-python",
   "name": "python",
   "nbconvert_exporter": "python",
   "pygments_lexer": "ipython3",
   "version": "3.12.0"
  }
 },
 "nbformat": 4,
 "nbformat_minor": 2
}
